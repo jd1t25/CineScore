{
 "cells": [
  {
   "cell_type": "markdown",
   "id": "3a1fd7ee-d486-4e60-82ef-b8b98744db26",
   "metadata": {},
   "source": [
    "#### Importing necessary libraries"
   ]
  },
  {
   "cell_type": "code",
   "execution_count": 1,
   "id": "7d3241ed-4b46-4167-9b10-276f65c02f2f",
   "metadata": {},
   "outputs": [
    {
     "name": "stderr",
     "output_type": "stream",
     "text": [
      "2025-01-04 02:27:53.659567: E external/local_xla/xla/stream_executor/cuda/cuda_fft.cc:477] Unable to register cuFFT factory: Attempting to register factory for plugin cuFFT when one has already been registered\n",
      "WARNING: All log messages before absl::InitializeLog() is called are written to STDERR\n",
      "E0000 00:00:1735937873.670448  169809 cuda_dnn.cc:8310] Unable to register cuDNN factory: Attempting to register factory for plugin cuDNN when one has already been registered\n",
      "E0000 00:00:1735937873.673735  169809 cuda_blas.cc:1418] Unable to register cuBLAS factory: Attempting to register factory for plugin cuBLAS when one has already been registered\n",
      "2025-01-04 02:27:53.686264: I tensorflow/core/platform/cpu_feature_guard.cc:210] This TensorFlow binary is optimized to use available CPU instructions in performance-critical operations.\n",
      "To enable the following instructions: AVX2 FMA, in other operations, rebuild TensorFlow with the appropriate compiler flags.\n"
     ]
    }
   ],
   "source": [
    "import pandas as pd\n",
    "import numpy as np\n",
    "import re\n",
    "import nltk\n",
    "from nltk.corpus import stopwords\n",
    "from numpy import array\n",
    "import matplotlib.pyplot as plt\n",
    "\n",
    "from tensorflow.keras.preprocessing.text import one_hot,Tokenizer\n",
    "from keras.preprocessing.sequence import pad_sequences\n",
    "from keras.models import Sequential\n",
    "from keras.layers import Activation, Dropout, Dense\n",
    "from keras.layers import Flatten, GlobalMaxPooling1D, Embedding, Conv1D, LSTM\n",
    "from sklearn.model_selection import train_test_split"
   ]
  },
  {
   "cell_type": "code",
   "execution_count": 2,
   "id": "d36f9e20-6cf4-4752-957e-b2034cefd700",
   "metadata": {},
   "outputs": [
    {
     "name": "stdout",
     "output_type": "stream",
     "text": [
      "[name: \"/device:CPU:0\"\n",
      "device_type: \"CPU\"\n",
      "memory_limit: 268435456\n",
      "locality {\n",
      "}\n",
      "incarnation: 11040445708177024046\n",
      "xla_global_id: -1\n",
      ", name: \"/device:GPU:0\"\n",
      "device_type: \"GPU\"\n",
      "memory_limit: 9379840000\n",
      "locality {\n",
      "  bus_id: 1\n",
      "  links {\n",
      "  }\n",
      "}\n",
      "incarnation: 16016060118127100581\n",
      "physical_device_desc: \"device: 0, name: NVIDIA GeForce RTX 3060, pci bus id: 0000:06:00.0, compute capability: 8.6\"\n",
      "xla_global_id: 416903419\n",
      "]\n"
     ]
    },
    {
     "name": "stderr",
     "output_type": "stream",
     "text": [
      "I0000 00:00:1735937875.195060  169809 gpu_device.cc:2022] Created device /device:GPU:0 with 8945 MB memory:  -> device: 0, name: NVIDIA GeForce RTX 3060, pci bus id: 0000:06:00.0, compute capability: 8.6\n"
     ]
    }
   ],
   "source": [
    "from tensorflow.python.client import device_lib\n",
    "print(device_lib.list_local_devices())"
   ]
  },
  {
   "cell_type": "code",
   "execution_count": 3,
   "id": "ecb0d18c-558d-47e2-a98d-3ca84d6eee14",
   "metadata": {},
   "outputs": [],
   "source": [
    "## This disables GPU , forced to CPU\n",
    "\n",
    "# import os\n",
    "# os.environ[\"CUDA_DEVICE_ORDER\"] = \"PCI_BUS_ID\"   # see issue #152\n",
    "# os.environ[\"CUDA_VISIBLE_DEVICES\"] = \"\""
   ]
  },
  {
   "cell_type": "markdown",
   "id": "c66d2c28-9b53-45cc-a2d5-85856697eb4e",
   "metadata": {},
   "source": [
    "## Preparing and Processing the Data"
   ]
  },
  {
   "cell_type": "code",
   "execution_count": 4,
   "id": "b597f983-dd73-4f71-9e4b-6563b9daa4e8",
   "metadata": {},
   "outputs": [],
   "source": [
    "movie_reviews = pd.read_csv(\"a1_IMDB_Dataset.csv\")"
   ]
  },
  {
   "cell_type": "code",
   "execution_count": 5,
   "id": "85602612-293c-4f30-8bf4-a25c5be065cc",
   "metadata": {},
   "outputs": [
    {
     "data": {
      "text/plain": [
       "(50000, 2)"
      ]
     },
     "execution_count": 5,
     "metadata": {},
     "output_type": "execute_result"
    }
   ],
   "source": [
    "movie_reviews.shape"
   ]
  },
  {
   "cell_type": "code",
   "execution_count": 6,
   "id": "f867ae82-5769-48be-9628-bf766f5389c2",
   "metadata": {},
   "outputs": [
    {
     "data": {
      "text/html": [
       "<div>\n",
       "<style scoped>\n",
       "    .dataframe tbody tr th:only-of-type {\n",
       "        vertical-align: middle;\n",
       "    }\n",
       "\n",
       "    .dataframe tbody tr th {\n",
       "        vertical-align: top;\n",
       "    }\n",
       "\n",
       "    .dataframe thead th {\n",
       "        text-align: right;\n",
       "    }\n",
       "</style>\n",
       "<table border=\"1\" class=\"dataframe\">\n",
       "  <thead>\n",
       "    <tr style=\"text-align: right;\">\n",
       "      <th></th>\n",
       "      <th>review</th>\n",
       "      <th>sentiment</th>\n",
       "    </tr>\n",
       "  </thead>\n",
       "  <tbody>\n",
       "    <tr>\n",
       "      <th>0</th>\n",
       "      <td>One of the other reviewers has mentioned that ...</td>\n",
       "      <td>positive</td>\n",
       "    </tr>\n",
       "    <tr>\n",
       "      <th>1</th>\n",
       "      <td>A wonderful little production. &lt;br /&gt;&lt;br /&gt;The...</td>\n",
       "      <td>positive</td>\n",
       "    </tr>\n",
       "    <tr>\n",
       "      <th>2</th>\n",
       "      <td>I thought this was a wonderful way to spend ti...</td>\n",
       "      <td>positive</td>\n",
       "    </tr>\n",
       "    <tr>\n",
       "      <th>3</th>\n",
       "      <td>Basically there's a family where a little boy ...</td>\n",
       "      <td>negative</td>\n",
       "    </tr>\n",
       "    <tr>\n",
       "      <th>4</th>\n",
       "      <td>Petter Mattei's \"Love in the Time of Money\" is...</td>\n",
       "      <td>positive</td>\n",
       "    </tr>\n",
       "  </tbody>\n",
       "</table>\n",
       "</div>"
      ],
      "text/plain": [
       "                                              review sentiment\n",
       "0  One of the other reviewers has mentioned that ...  positive\n",
       "1  A wonderful little production. <br /><br />The...  positive\n",
       "2  I thought this was a wonderful way to spend ti...  positive\n",
       "3  Basically there's a family where a little boy ...  negative\n",
       "4  Petter Mattei's \"Love in the Time of Money\" is...  positive"
      ]
     },
     "execution_count": 6,
     "metadata": {},
     "output_type": "execute_result"
    }
   ],
   "source": [
    "movie_reviews.head(5)"
   ]
  },
  {
   "cell_type": "code",
   "execution_count": 7,
   "id": "49015041-95f3-494f-8b09-39b6a0e0353c",
   "metadata": {},
   "outputs": [
    {
     "data": {
      "text/plain": [
       "review       0\n",
       "sentiment    0\n",
       "dtype: int64"
      ]
     },
     "execution_count": 7,
     "metadata": {},
     "output_type": "execute_result"
    }
   ],
   "source": [
    "movie_reviews.isnull().sum()"
   ]
  },
  {
   "cell_type": "code",
   "execution_count": 8,
   "id": "b5bae193-7b25-4100-8da2-129ec51e40d8",
   "metadata": {},
   "outputs": [
    {
     "data": {
      "text/plain": [
       "<Axes: xlabel='sentiment', ylabel='count'>"
      ]
     },
     "execution_count": 8,
     "metadata": {},
     "output_type": "execute_result"
    },
    {
     "data": {
      "image/png": "[encoded data removed]",
      "text/plain": [
       "<Figure size 640x480 with 1 Axes>"
      ]
     },
     "metadata": {},
     "output_type": "display_data"
    }
   ],
   "source": [
    "import seaborn as sns\n",
    "sns.countplot(x='sentiment', data=movie_reviews)"
   ]
  },
  {
   "cell_type": "code",
   "execution_count": 9,
   "id": "53f08197-46f7-4c55-89fc-357a738ca8cc",
   "metadata": {},
   "outputs": [
    {
     "data": {
      "text/plain": [
       "'A wonderful little production. <br /><br />The filming technique is very unassuming- very old-time-BBC fashion and gives a comforting, and sometimes discomforting, sense of realism to the entire piece. <br /><br />The actors are extremely well chosen- Michael Sheen not only \"has got all the polari\" but he has all the voices down pat too! You can truly see the seamless editing guided by the references to Williams\\' diary entries, not only is it well worth the watching but it is a terrificly written and performed piece. A masterful production about one of the great master\\'s of comedy and his life. <br /><br />The realism really comes home with the little things: the fantasy of the guard which, rather than use the traditional \\'dream\\' techniques remains solid then disappears. It plays on our knowledge and our senses, particularly with the scenes concerning Orton and Halliwell and the sets (particularly of their flat with Halliwell\\'s murals decorating every surface) are terribly well done.'"
      ]
     },
     "execution_count": 9,
     "metadata": {},
     "output_type": "execute_result"
    }
   ],
   "source": [
    "movie_reviews['review'][1]"
   ]
  },
  {
   "cell_type": "code",
   "execution_count": 5,
   "id": "2e6cba90-3f91-44f4-a896-890b7fcfbb80",
   "metadata": {},
   "outputs": [],
   "source": [
    "# If you see this review, it has html tags or any unecessary symbols we have to delete it"
   ]
  },
  {
   "cell_type": "markdown",
   "id": "b9cbac18-91c3-46b0-87cd-a90ee65f671a",
   "metadata": {},
   "source": [
    "## Cleaning the Data"
   ]
  },
  {
   "cell_type": "code",
   "execution_count": 10,
   "id": "d4555f4c-f411-43c5-a89d-56a957933f98",
   "metadata": {},
   "outputs": [],
   "source": [
    "TAG_RE = re.compile(r'<[^>]+>')\n",
    "\n",
    "def remove_tags(text):\n",
    "    return TAG_RE.sub('', text)"
   ]
  },
  {
   "cell_type": "code",
   "execution_count": 11,
   "id": "1d839d39-c7fa-4f47-93f3-edc68e4ab4a4",
   "metadata": {},
   "outputs": [
    {
     "name": "stderr",
     "output_type": "stream",
     "text": [
      "[nltk_data] Downloading package stopwords to /home/jd1t/nltk_data...\n",
      "[nltk_data]   Package stopwords is already up-to-date!\n"
     ]
    },
    {
     "data": {
      "text/plain": [
       "True"
      ]
     },
     "execution_count": 11,
     "metadata": {},
     "output_type": "execute_result"
    }
   ],
   "source": [
    "import nltk\n",
    "nltk.download('stopwords')"
   ]
  },
  {
   "cell_type": "code",
   "execution_count": 12,
   "id": "188bd000-c16c-4ac6-b896-0281d361e2c0",
   "metadata": {},
   "outputs": [],
   "source": [
    "def preprocess_text(sen):    \n",
    "    sentence = sen.lower()\n",
    "\n",
    "    # Remove html tags\n",
    "    sentence = remove_tags(sentence)\n",
    "\n",
    "    # Remove punctuations and numbers\n",
    "    sentence = re.sub('[^a-zA-Z]', ' ', sentence)\n",
    "\n",
    "    # Single character removal\n",
    "    sentence = re.sub(r\"\\s+[a-zA-Z]\\s+\", ' ', sentence)  \n",
    "\n",
    "    # Remove multiple spaces\n",
    "    sentence = re.sub(r'\\s+', ' ', sentence)\n",
    "\n",
    "    # Remove Stopwords\n",
    "    pattern = re.compile(r'\\b(' + r'|'.join(stopwords.words('english')) + r')\\b\\s*')\n",
    "    sentence = pattern.sub('', sentence)\n",
    "\n",
    "    return sentence"
   ]
  },
  {
   "cell_type": "code",
   "execution_count": 13,
   "id": "0807e003-e71f-4e6c-a3d5-a03987b3c22d",
   "metadata": {},
   "outputs": [],
   "source": [
    "X = []\n",
    "sentences = list(movie_reviews['review'])\n",
    "for sen in sentences:\n",
    "    X.append(preprocess_text(sen))"
   ]
  },
  {
   "cell_type": "markdown",
   "id": "2424d16c-2564-4a7f-b103-8a0a4a041a94",
   "metadata": {},
   "source": [
    "### Converting using Binary Encoding"
   ]
  },
  {
   "cell_type": "code",
   "execution_count": 14,
   "id": "ac47e541-4baa-4c0f-a7b6-3906ffd3d26b",
   "metadata": {},
   "outputs": [],
   "source": [
    "y = movie_reviews['sentiment']\n",
    "\n",
    "y = np.array(list(map(lambda x: 1 if x==\"positive\" else 0, y)))"
   ]
  },
  {
   "cell_type": "code",
   "execution_count": 8,
   "id": "ade7d19d-3bbd-4937-9707-d4189419e67e",
   "metadata": {},
   "outputs": [],
   "source": [
    "## No need to explain this. "
   ]
  },
  {
   "cell_type": "code",
   "execution_count": 15,
   "id": "dd3b8000-0d32-4010-b08e-68172280d5ec",
   "metadata": {},
   "outputs": [],
   "source": [
    "X_train, X_test, y_train, y_test = train_test_split(X, y, test_size=0.20, random_state=42)\n"
   ]
  },
  {
   "cell_type": "code",
   "execution_count": 10,
   "id": "cfc5c1dc-9963-4bf5-a244-cc53e900662a",
   "metadata": {},
   "outputs": [],
   "source": [
    "# tokenizes the text data, converting the text into sequences of integers based on the word frequency.\n"
   ]
  },
  {
   "cell_type": "code",
   "execution_count": 16,
   "id": "ea16ec6e-f59c-46ff-9e07-4cb6bbd219c3",
   "metadata": {},
   "outputs": [],
   "source": [
    "word_tokenizer = Tokenizer()\n",
    "word_tokenizer.fit_on_texts(X_train)\n",
    "\n",
    "X_train = word_tokenizer.texts_to_sequences(X_train)\n",
    "X_test = word_tokenizer.texts_to_sequences(X_test)"
   ]
  },
  {
   "cell_type": "code",
   "execution_count": 12,
   "id": "f033ab15-4f52-4d47-bba8-935266b99602",
   "metadata": {},
   "outputs": [],
   "source": [
    "# calculates size of vocal i.e. total no of unique words\n",
    "# adding 1, well because word index should not be greater than vocab size in embedding layer \n",
    "# https://stackoverflow.com/questions/67293182/reason-for-adding-1-to-word-index-for-sequence-modeling"
   ]
  },
  {
   "cell_type": "code",
   "execution_count": 17,
   "id": "3e7c6d81-226d-4725-b770-c32ef2bdbf7b",
   "metadata": {},
   "outputs": [
    {
     "data": {
      "text/plain": [
       "92394"
      ]
     },
     "execution_count": 17,
     "metadata": {},
     "output_type": "execute_result"
    }
   ],
   "source": [
    "vocab_length = len(word_tokenizer.word_index) + 1\n",
    "\n",
    "vocab_length"
   ]
  },
  {
   "cell_type": "code",
   "execution_count": null,
   "id": "bdc0690a-1e6c-4990-acfb-0a3a15956e3f",
   "metadata": {},
   "outputs": [],
   "source": [
    "# to ensure they are all of equal length that is 100 here and adding to each sequence"
   ]
  },
  {
   "cell_type": "code",
   "execution_count": 18,
   "id": "2caeb806-6ec4-4ebd-8c6e-693f3829ee85",
   "metadata": {},
   "outputs": [],
   "source": [
    "maxlen = 100\n",
    "\n",
    "X_train = pad_sequences(X_train, padding='post', maxlen=maxlen)\n",
    "X_test = pad_sequences(X_test, padding='post', maxlen=maxlen)"
   ]
  },
  {
   "cell_type": "code",
   "execution_count": null,
   "id": "e215ff28-bdd8-4cc9-8b94-c5e4534af54f",
   "metadata": {},
   "outputs": [],
   "source": [
    "# used Glove here, maps each word to its vector "
   ]
  },
  {
   "cell_type": "code",
   "execution_count": 19,
   "id": "34cc89ed-a220-4fed-bdc2-87bdb8b7d13c",
   "metadata": {},
   "outputs": [],
   "source": [
    "from numpy import asarray\n",
    "from numpy import zeros\n",
    "\n",
    "embeddings_dictionary = dict()\n",
    "glove_file = open('a2_glove.6B.100d.txt', encoding=\"utf8\")\n",
    "\n",
    "for line in glove_file:\n",
    "    records = line.split()\n",
    "    word = records[0]\n",
    "    vector_dimensions = asarray(records[1:], dtype='float32')\n",
    "    embeddings_dictionary [word] = vector_dimensions\n",
    "glove_file.close()"
   ]
  },
  {
   "cell_type": "code",
   "execution_count": null,
   "id": "e504b7f0-905a-4258-9369-d572acd79d98",
   "metadata": {},
   "outputs": [],
   "source": [
    "# construct embedding matrix which here is 100 dim vector from glove , this matrix will provide word representations udring traingin "
   ]
  },
  {
   "cell_type": "code",
   "execution_count": 20,
   "id": "b21c2e52-057e-40e0-8352-46fd927c0cc2",
   "metadata": {},
   "outputs": [],
   "source": [
    "embedding_matrix = zeros((vocab_length, 100))\n",
    "for word, index in word_tokenizer.word_index.items():\n",
    "    embedding_vector = embeddings_dictionary.get(word)\n",
    "    if embedding_vector is not None:\n",
    "        embedding_matrix[index] = embedding_vector"
   ]
  },
  {
   "cell_type": "code",
   "execution_count": 21,
   "id": "94552001-8a12-4e70-ae55-eef34a9325bf",
   "metadata": {},
   "outputs": [
    {
     "data": {
      "text/plain": [
       "(92394, 100)"
      ]
     },
     "execution_count": 21,
     "metadata": {},
     "output_type": "execute_result"
    }
   ],
   "source": [
    "embedding_matrix.shape"
   ]
  },
  {
   "cell_type": "markdown",
   "id": "ad095926-7309-49df-b18a-d6434d817c1a",
   "metadata": {},
   "source": [
    "## LSTM"
   ]
  },
  {
   "cell_type": "code",
   "execution_count": 23,
   "id": "fd4079b2-48c2-4efa-8754-e701dd561621",
   "metadata": {},
   "outputs": [],
   "source": [
    "from keras.layers import LSTM"
   ]
  },
  {
   "cell_type": "code",
   "execution_count": 13,
   "id": "3c7a8237-52a4-4c51-9226-94f31672887c",
   "metadata": {},
   "outputs": [],
   "source": [
    "## Sequential LSTM with Glove embedding layer followed by lstm layer and finally sigmoid activation for binary classification "
   ]
  },
  {
   "cell_type": "code",
   "execution_count": 24,
   "id": "0942a296-c60b-499e-8ce9-508684ee75a4",
   "metadata": {},
   "outputs": [
    {
     "name": "stderr",
     "output_type": "stream",
     "text": [
      "I0000 00:00:1735937898.050518  169809 gpu_device.cc:2022] Created device /job:localhost/replica:0/task:0/device:GPU:0 with 8945 MB memory:  -> device: 0, name: NVIDIA GeForce RTX 3060, pci bus id: 0000:06:00.0, compute capability: 8.6\n"
     ]
    }
   ],
   "source": [
    "lstm_model = Sequential()\n",
    "embedding_layer = Embedding(vocab_length, 100, weights=[embedding_matrix], trainable=False)\n",
    "\n",
    "lstm_model.add(embedding_layer)\n",
    "lstm_model.add(LSTM(128))\n",
    "\n",
    "lstm_model.add(Dense(1, activation='sigmoid'))"
   ]
  },
  {
   "cell_type": "code",
   "execution_count": 14,
   "id": "e878c7be-248a-4139-9af2-6e013229452f",
   "metadata": {},
   "outputs": [],
   "source": [
    "# Compiles model with adam optimizer, accuracy as metric \n",
    "# Prints the model summary"
   ]
  },
  {
   "cell_type": "code",
   "execution_count": 25,
   "id": "46c1a47d-3e3f-461f-a3ae-639c34b58f29",
   "metadata": {},
   "outputs": [
    {
     "data": {
      "text/html": [
       "<pre style=\"white-space:pre;overflow-x:auto;line-height:normal;font-family:Menlo,'DejaVu Sans Mono',consolas,'Courier New',monospace\"><span style=\"font-weight: bold\">Model: \"sequential\"</span>\n",
       "</pre>\n"
      ],
      "text/plain": [
       "\u001b[1mModel: \"sequential\"\u001b[0m\n"
      ]
     },
     "metadata": {},
     "output_type": "display_data"
    },
    {
     "data": {
      "text/html": [
       "<pre style=\"white-space:pre;overflow-x:auto;line-height:normal;font-family:Menlo,'DejaVu Sans Mono',consolas,'Courier New',monospace\">┏━━━━━━━━━━━━━━━━━━━━━━━━━━━━━━━━━┳━━━━━━━━━━━━━━━━━━━━━━━━┳━━━━━━━━━━━━━━━┓\n",
       "┃<span style=\"font-weight: bold\"> Layer (type)                    </span>┃<span style=\"font-weight: bold\"> Output Shape           </span>┃<span style=\"font-weight: bold\">       Param # </span>┃\n",
       "┡━━━━━━━━━━━━━━━━━━━━━━━━━━━━━━━━━╇━━━━━━━━━━━━━━━━━━━━━━━━╇━━━━━━━━━━━━━━━┩\n",
       "│ embedding (<span style=\"color: #0087ff; text-decoration-color: #0087ff\">Embedding</span>)           │ ?                      │     <span style=\"color: #00af00; text-decoration-color: #00af00\">9,239,400</span> │\n",
       "├─────────────────────────────────┼────────────────────────┼───────────────┤\n",
       "│ lstm (<span style=\"color: #0087ff; text-decoration-color: #0087ff\">LSTM</span>)                     │ ?                      │   <span style=\"color: #00af00; text-decoration-color: #00af00\">0</span> (unbuilt) │\n",
       "├─────────────────────────────────┼────────────────────────┼───────────────┤\n",
       "│ dense (<span style=\"color: #0087ff; text-decoration-color: #0087ff\">Dense</span>)                   │ ?                      │   <span style=\"color: #00af00; text-decoration-color: #00af00\">0</span> (unbuilt) │\n",
       "└─────────────────────────────────┴────────────────────────┴───────────────┘\n",
       "</pre>\n"
      ],
      "text/plain": [
       "┏━━━━━━━━━━━━━━━━━━━━━━━━━━━━━━━━━┳━━━━━━━━━━━━━━━━━━━━━━━━┳━━━━━━━━━━━━━━━┓\n",
       "┃\u001b[1m \u001b[0m\u001b[1mLayer (type)                   \u001b[0m\u001b[1m \u001b[0m┃\u001b[1m \u001b[0m\u001b[1mOutput Shape          \u001b[0m\u001b[1m \u001b[0m┃\u001b[1m \u001b[0m\u001b[1m      Param #\u001b[0m\u001b[1m \u001b[0m┃\n",
       "┡━━━━━━━━━━━━━━━━━━━━━━━━━━━━━━━━━╇━━━━━━━━━━━━━━━━━━━━━━━━╇━━━━━━━━━━━━━━━┩\n",
       "│ embedding (\u001b[38;5;33mEmbedding\u001b[0m)           │ ?                      │     \u001b[38;5;34m9,239,400\u001b[0m │\n",
       "├─────────────────────────────────┼────────────────────────┼───────────────┤\n",
       "│ lstm (\u001b[38;5;33mLSTM\u001b[0m)                     │ ?                      │   \u001b[38;5;34m0\u001b[0m (unbuilt) │\n",
       "├─────────────────────────────────┼────────────────────────┼───────────────┤\n",
       "│ dense (\u001b[38;5;33mDense\u001b[0m)                   │ ?                      │   \u001b[38;5;34m0\u001b[0m (unbuilt) │\n",
       "└─────────────────────────────────┴────────────────────────┴───────────────┘\n"
      ]
     },
     "metadata": {},
     "output_type": "display_data"
    },
    {
     "data": {
      "text/html": [
       "<pre style=\"white-space:pre;overflow-x:auto;line-height:normal;font-family:Menlo,'DejaVu Sans Mono',consolas,'Courier New',monospace\"><span style=\"font-weight: bold\"> Total params: </span><span style=\"color: #00af00; text-decoration-color: #00af00\">9,239,400</span> (35.25 MB)\n",
       "</pre>\n"
      ],
      "text/plain": [
       "\u001b[1m Total params: \u001b[0m\u001b[38;5;34m9,239,400\u001b[0m (35.25 MB)\n"
      ]
     },
     "metadata": {},
     "output_type": "display_data"
    },
    {
     "data": {
      "text/html": [
       "<pre style=\"white-space:pre;overflow-x:auto;line-height:normal;font-family:Menlo,'DejaVu Sans Mono',consolas,'Courier New',monospace\"><span style=\"font-weight: bold\"> Trainable params: </span><span style=\"color: #00af00; text-decoration-color: #00af00\">0</span> (0.00 B)\n",
       "</pre>\n"
      ],
      "text/plain": [
       "\u001b[1m Trainable params: \u001b[0m\u001b[38;5;34m0\u001b[0m (0.00 B)\n"
      ]
     },
     "metadata": {},
     "output_type": "display_data"
    },
    {
     "data": {
      "text/html": [
       "<pre style=\"white-space:pre;overflow-x:auto;line-height:normal;font-family:Menlo,'DejaVu Sans Mono',consolas,'Courier New',monospace\"><span style=\"font-weight: bold\"> Non-trainable params: </span><span style=\"color: #00af00; text-decoration-color: #00af00\">9,239,400</span> (35.25 MB)\n",
       "</pre>\n"
      ],
      "text/plain": [
       "\u001b[1m Non-trainable params: \u001b[0m\u001b[38;5;34m9,239,400\u001b[0m (35.25 MB)\n"
      ]
     },
     "metadata": {},
     "output_type": "display_data"
    },
    {
     "name": "stdout",
     "output_type": "stream",
     "text": [
      "None\n"
     ]
    }
   ],
   "source": [
    "lstm_model.compile(optimizer='adam', loss='binary_crossentropy', metrics=['acc'])\n",
    "print(lstm_model.summary())"
   ]
  },
  {
   "cell_type": "code",
   "execution_count": 15,
   "id": "4e4113c9-d0c4-4c3a-9a0b-5ce6ac4589d5",
   "metadata": {},
   "outputs": [],
   "source": [
    "# Train the model having batch size of 128 for 6 epochs"
   ]
  },
  {
   "cell_type": "code",
   "execution_count": 26,
   "id": "db76e450-34e3-48d5-a656-dfefbfe6dfd2",
   "metadata": {},
   "outputs": [
    {
     "name": "stdout",
     "output_type": "stream",
     "text": [
      "Epoch 1/6\n"
     ]
    },
    {
     "name": "stderr",
     "output_type": "stream",
     "text": [
      "I0000 00:00:1735937899.840461  169975 cuda_dnn.cc:529] Loaded cuDNN version 90501\n"
     ]
    },
    {
     "name": "stdout",
     "output_type": "stream",
     "text": [
      "\u001b[1m250/250\u001b[0m \u001b[32m━━━━━━━━━━━━━━━━━━━━\u001b[0m\u001b[37m\u001b[0m \u001b[1m4s\u001b[0m 8ms/step - acc: 0.6818 - loss: 0.5876 - val_acc: 0.8084 - val_loss: 0.4235\n",
      "Epoch 2/6\n",
      "\u001b[1m250/250\u001b[0m \u001b[32m━━━━━━━━━━━━━━━━━━━━\u001b[0m\u001b[37m\u001b[0m \u001b[1m2s\u001b[0m 7ms/step - acc: 0.8064 - loss: 0.4304 - val_acc: 0.8311 - val_loss: 0.3890\n",
      "Epoch 3/6\n",
      "\u001b[1m250/250\u001b[0m \u001b[32m━━━━━━━━━━━━━━━━━━━━\u001b[0m\u001b[37m\u001b[0m \u001b[1m2s\u001b[0m 7ms/step - acc: 0.8268 - loss: 0.3930 - val_acc: 0.8413 - val_loss: 0.3739\n",
      "Epoch 4/6\n",
      "\u001b[1m250/250\u001b[0m \u001b[32m━━━━━━━━━━━━━━━━━━━━\u001b[0m\u001b[37m\u001b[0m \u001b[1m2s\u001b[0m 7ms/step - acc: 0.8388 - loss: 0.3737 - val_acc: 0.8389 - val_loss: 0.3578\n",
      "Epoch 5/6\n",
      "\u001b[1m250/250\u001b[0m \u001b[32m━━━━━━━━━━━━━━━━━━━━\u001b[0m\u001b[37m\u001b[0m \u001b[1m2s\u001b[0m 7ms/step - acc: 0.8600 - loss: 0.3301 - val_acc: 0.8610 - val_loss: 0.3250\n",
      "Epoch 6/6\n",
      "\u001b[1m250/250\u001b[0m \u001b[32m━━━━━━━━━━━━━━━━━━━━\u001b[0m\u001b[37m\u001b[0m \u001b[1m2s\u001b[0m 7ms/step - acc: 0.8698 - loss: 0.3087 - val_acc: 0.8529 - val_loss: 0.3407\n"
     ]
    }
   ],
   "source": [
    "lstm_model_history = lstm_model.fit(X_train, y_train, batch_size=128, epochs=6, verbose=1, validation_split=0.2)"
   ]
  },
  {
   "cell_type": "code",
   "execution_count": 16,
   "id": "ee1d152c-086a-4292-9666-e23de01291ba",
   "metadata": {},
   "outputs": [],
   "source": [
    "# Evaluates returning loss and accuracy score"
   ]
  },
  {
   "cell_type": "code",
   "execution_count": 27,
   "id": "bc34fd20-3302-4467-a205-effbf7bd956f",
   "metadata": {},
   "outputs": [
    {
     "name": "stdout",
     "output_type": "stream",
     "text": [
      "\u001b[1m313/313\u001b[0m \u001b[32m━━━━━━━━━━━━━━━━━━━━\u001b[0m\u001b[37m\u001b[0m \u001b[1m1s\u001b[0m 2ms/step - acc: 0.8542 - loss: 0.3426 \n"
     ]
    }
   ],
   "source": [
    "score = lstm_model.evaluate(X_test, y_test, verbose=1)"
   ]
  },
  {
   "cell_type": "code",
   "execution_count": 17,
   "id": "d41375d0-ac20-408a-880a-8b9fbaff9e9b",
   "metadata": {},
   "outputs": [],
   "source": [
    "# Summary above has ?? because i didnt had yet passed the input "
   ]
  },
  {
   "cell_type": "code",
   "execution_count": 28,
   "id": "e84ec706-8fd6-432f-b0dc-4f42e4aba940",
   "metadata": {},
   "outputs": [
    {
     "data": {
      "text/html": [
       "<pre style=\"white-space:pre;overflow-x:auto;line-height:normal;font-family:Menlo,'DejaVu Sans Mono',consolas,'Courier New',monospace\"><span style=\"font-weight: bold\">Model: \"sequential\"</span>\n",
       "</pre>\n"
      ],
      "text/plain": [
       "\u001b[1mModel: \"sequential\"\u001b[0m\n"
      ]
     },
     "metadata": {},
     "output_type": "display_data"
    },
    {
     "data": {
      "text/html": [
       "<pre style=\"white-space:pre;overflow-x:auto;line-height:normal;font-family:Menlo,'DejaVu Sans Mono',consolas,'Courier New',monospace\">┏━━━━━━━━━━━━━━━━━━━━━━━━━━━━━━━━━┳━━━━━━━━━━━━━━━━━━━━━━━━┳━━━━━━━━━━━━━━━┓\n",
       "┃<span style=\"font-weight: bold\"> Layer (type)                    </span>┃<span style=\"font-weight: bold\"> Output Shape           </span>┃<span style=\"font-weight: bold\">       Param # </span>┃\n",
       "┡━━━━━━━━━━━━━━━━━━━━━━━━━━━━━━━━━╇━━━━━━━━━━━━━━━━━━━━━━━━╇━━━━━━━━━━━━━━━┩\n",
       "│ embedding (<span style=\"color: #0087ff; text-decoration-color: #0087ff\">Embedding</span>)           │ (<span style=\"color: #00af00; text-decoration-color: #00af00\">128</span>, <span style=\"color: #00af00; text-decoration-color: #00af00\">100</span>, <span style=\"color: #00af00; text-decoration-color: #00af00\">100</span>)        │     <span style=\"color: #00af00; text-decoration-color: #00af00\">9,239,400</span> │\n",
       "├─────────────────────────────────┼────────────────────────┼───────────────┤\n",
       "│ lstm (<span style=\"color: #0087ff; text-decoration-color: #0087ff\">LSTM</span>)                     │ (<span style=\"color: #00af00; text-decoration-color: #00af00\">128</span>, <span style=\"color: #00af00; text-decoration-color: #00af00\">128</span>)             │       <span style=\"color: #00af00; text-decoration-color: #00af00\">117,248</span> │\n",
       "├─────────────────────────────────┼────────────────────────┼───────────────┤\n",
       "│ dense (<span style=\"color: #0087ff; text-decoration-color: #0087ff\">Dense</span>)                   │ (<span style=\"color: #00af00; text-decoration-color: #00af00\">128</span>, <span style=\"color: #00af00; text-decoration-color: #00af00\">1</span>)               │           <span style=\"color: #00af00; text-decoration-color: #00af00\">129</span> │\n",
       "└─────────────────────────────────┴────────────────────────┴───────────────┘\n",
       "</pre>\n"
      ],
      "text/plain": [
       "┏━━━━━━━━━━━━━━━━━━━━━━━━━━━━━━━━━┳━━━━━━━━━━━━━━━━━━━━━━━━┳━━━━━━━━━━━━━━━┓\n",
       "┃\u001b[1m \u001b[0m\u001b[1mLayer (type)                   \u001b[0m\u001b[1m \u001b[0m┃\u001b[1m \u001b[0m\u001b[1mOutput Shape          \u001b[0m\u001b[1m \u001b[0m┃\u001b[1m \u001b[0m\u001b[1m      Param #\u001b[0m\u001b[1m \u001b[0m┃\n",
       "┡━━━━━━━━━━━━━━━━━━━━━━━━━━━━━━━━━╇━━━━━━━━━━━━━━━━━━━━━━━━╇━━━━━━━━━━━━━━━┩\n",
       "│ embedding (\u001b[38;5;33mEmbedding\u001b[0m)           │ (\u001b[38;5;34m128\u001b[0m, \u001b[38;5;34m100\u001b[0m, \u001b[38;5;34m100\u001b[0m)        │     \u001b[38;5;34m9,239,400\u001b[0m │\n",
       "├─────────────────────────────────┼────────────────────────┼───────────────┤\n",
       "│ lstm (\u001b[38;5;33mLSTM\u001b[0m)                     │ (\u001b[38;5;34m128\u001b[0m, \u001b[38;5;34m128\u001b[0m)             │       \u001b[38;5;34m117,248\u001b[0m │\n",
       "├─────────────────────────────────┼────────────────────────┼───────────────┤\n",
       "│ dense (\u001b[38;5;33mDense\u001b[0m)                   │ (\u001b[38;5;34m128\u001b[0m, \u001b[38;5;34m1\u001b[0m)               │           \u001b[38;5;34m129\u001b[0m │\n",
       "└─────────────────────────────────┴────────────────────────┴───────────────┘\n"
      ]
     },
     "metadata": {},
     "output_type": "display_data"
    },
    {
     "data": {
      "text/html": [
       "<pre style=\"white-space:pre;overflow-x:auto;line-height:normal;font-family:Menlo,'DejaVu Sans Mono',consolas,'Courier New',monospace\"><span style=\"font-weight: bold\"> Total params: </span><span style=\"color: #00af00; text-decoration-color: #00af00\">9,591,533</span> (36.59 MB)\n",
       "</pre>\n"
      ],
      "text/plain": [
       "\u001b[1m Total params: \u001b[0m\u001b[38;5;34m9,591,533\u001b[0m (36.59 MB)\n"
      ]
     },
     "metadata": {},
     "output_type": "display_data"
    },
    {
     "data": {
      "text/html": [
       "<pre style=\"white-space:pre;overflow-x:auto;line-height:normal;font-family:Menlo,'DejaVu Sans Mono',consolas,'Courier New',monospace\"><span style=\"font-weight: bold\"> Trainable params: </span><span style=\"color: #00af00; text-decoration-color: #00af00\">117,377</span> (458.50 KB)\n",
       "</pre>\n"
      ],
      "text/plain": [
       "\u001b[1m Trainable params: \u001b[0m\u001b[38;5;34m117,377\u001b[0m (458.50 KB)\n"
      ]
     },
     "metadata": {},
     "output_type": "display_data"
    },
    {
     "data": {
      "text/html": [
       "<pre style=\"white-space:pre;overflow-x:auto;line-height:normal;font-family:Menlo,'DejaVu Sans Mono',consolas,'Courier New',monospace\"><span style=\"font-weight: bold\"> Non-trainable params: </span><span style=\"color: #00af00; text-decoration-color: #00af00\">9,239,400</span> (35.25 MB)\n",
       "</pre>\n"
      ],
      "text/plain": [
       "\u001b[1m Non-trainable params: \u001b[0m\u001b[38;5;34m9,239,400\u001b[0m (35.25 MB)\n"
      ]
     },
     "metadata": {},
     "output_type": "display_data"
    },
    {
     "data": {
      "text/html": [
       "<pre style=\"white-space:pre;overflow-x:auto;line-height:normal;font-family:Menlo,'DejaVu Sans Mono',consolas,'Courier New',monospace\"><span style=\"font-weight: bold\"> Optimizer params: </span><span style=\"color: #00af00; text-decoration-color: #00af00\">234,756</span> (917.02 KB)\n",
       "</pre>\n"
      ],
      "text/plain": [
       "\u001b[1m Optimizer params: \u001b[0m\u001b[38;5;34m234,756\u001b[0m (917.02 KB)\n"
      ]
     },
     "metadata": {},
     "output_type": "display_data"
    },
    {
     "name": "stdout",
     "output_type": "stream",
     "text": [
      "None\n"
     ]
    }
   ],
   "source": [
    "print(lstm_model.summary())"
   ]
  },
  {
   "cell_type": "code",
   "execution_count": 18,
   "id": "a40f9710-445a-4a8b-a43b-4e69dfe4ff73",
   "metadata": {},
   "outputs": [],
   "source": [
    "# Self explainotary"
   ]
  },
  {
   "cell_type": "code",
   "execution_count": 29,
   "id": "6cfaf419-cd8f-4005-9fb7-65e034a36898",
   "metadata": {},
   "outputs": [
    {
     "name": "stdout",
     "output_type": "stream",
     "text": [
      "Test Score: 0.34347790479660034\n",
      "Test Accuracy: 0.8529000282287598\n"
     ]
    }
   ],
   "source": [
    "print(\"Test Score:\", score[0])\n",
    "print(\"Test Accuracy:\", score[1])"
   ]
  },
  {
   "cell_type": "code",
   "execution_count": 19,
   "id": "ebd1c566-2db5-4fd5-8dff-36a3f89d8513",
   "metadata": {},
   "outputs": [],
   "source": [
    "## Plotting "
   ]
  },
  {
   "cell_type": "code",
   "execution_count": 30,
   "id": "28fe3bd4-c8c1-45a1-8429-016d83fe3e1c",
   "metadata": {},
   "outputs": [
    {
     "data": {
      "image/png": "[encoded data removed]",
      "text/plain": [
       "<Figure size 640x480 with 1 Axes>"
      ]
     },
     "metadata": {},
     "output_type": "display_data"
    }
   ],
   "source": [
    "plt.plot(lstm_model_history.history['acc'])\n",
    "plt.plot(lstm_model_history.history['val_acc'])\n",
    "\n",
    "plt.title('Model Accuracy')\n",
    "plt.ylabel('Accuracy')\n",
    "plt.xlabel('Epoch')\n",
    "plt.legend(['train','test'], loc='center right')\n",
    "plt.show()"
   ]
  },
  {
   "cell_type": "code",
   "execution_count": 31,
   "id": "91e21042-708b-487c-ac20-11091abae66c",
   "metadata": {},
   "outputs": [
    {
     "data": {
      "image/png": "[encoded data removed]",
      "text/plain": [
       "<Figure size 640x480 with 1 Axes>"
      ]
     },
     "metadata": {},
     "output_type": "display_data"
    }
   ],
   "source": [
    "plt.plot(lstm_model_history.history['loss'])\n",
    "plt.plot(lstm_model_history.history['val_loss'])\n",
    "\n",
    "plt.title('model loss')\n",
    "plt.ylabel('loss')\n",
    "plt.xlabel('epoch')\n",
    "plt.legend(['train','test'], loc='upper right')\n",
    "plt.show()"
   ]
  },
  {
   "cell_type": "code",
   "execution_count": 32,
   "id": "6f6c6536-ac25-4d9d-a3b4-0a38fffb9972",
   "metadata": {},
   "outputs": [],
   "source": [
    "## Just Testing Purpose"
   ]
  },
  {
   "cell_type": "code",
   "execution_count": 33,
   "id": "b21876e2-931a-4606-8928-984cadb96e4a",
   "metadata": {},
   "outputs": [],
   "source": [
    "reviews = [\n",
    "    \"This movie was a thrilling rollercoaster from start to finish, filled with unexpected twists and emotional depth.\",\n",
    "    \"The plot was predictable and lacked originality. The characters were flat, making it hard to connect with them.\",\n",
    "    \"Visually stunning and highly creative, but the pacing was slow, which made it hard to stay engaged throughout.\",\n",
    "    \"An absolute masterpiece! The acting was superb, and the storyline was both gripping and emotionally powerful.\",\n",
    "    \"A good movie overall, but it suffered from some clichés. Still enjoyable for fans of the genre.\"\n",
    "]\n",
    "\n",
    "ratings = [8, 1, 9, 10, 6]\n",
    "\n",
    "df = pd.DataFrame({\n",
    "    'Review': reviews,\n",
    "    'Rating': ratings\n",
    "})"
   ]
  },
  {
   "cell_type": "code",
   "execution_count": 34,
   "id": "d2ae78a9-8e87-4b4a-96fd-fbcade0ef68c",
   "metadata": {},
   "outputs": [],
   "source": [
    "unseen_reviews = df['Review']\n",
    "unseen_processed = []\n",
    "for review in unseen_reviews:\n",
    "  review = preprocess_text(review)\n",
    "  unseen_processed.append(review)"
   ]
  },
  {
   "cell_type": "code",
   "execution_count": 35,
   "id": "f800c3dd-597b-4781-862b-c7fb80e7a999",
   "metadata": {},
   "outputs": [],
   "source": [
    "unseen_tokenized = word_tokenizer.texts_to_sequences(unseen_processed)\n",
    "unseen_padded = pad_sequences(unseen_tokenized, padding='post', maxlen=maxlen)"
   ]
  },
  {
   "cell_type": "code",
   "execution_count": 36,
   "id": "4be60a40-09ad-4d97-9ca9-1153225fa2e0",
   "metadata": {},
   "outputs": [
    {
     "name": "stdout",
     "output_type": "stream",
     "text": [
      "\u001b[1m1/1\u001b[0m \u001b[32m━━━━━━━━━━━━━━━━━━━━\u001b[0m\u001b[37m\u001b[0m \u001b[1m0s\u001b[0m 76ms/step\n"
     ]
    },
    {
     "data": {
      "text/plain": [
       "array([[0.97152036],\n",
       "       [0.00647334],\n",
       "       [0.97158855],\n",
       "       [0.97170264],\n",
       "       [0.34913337]], dtype=float32)"
      ]
     },
     "execution_count": 36,
     "metadata": {},
     "output_type": "execute_result"
    }
   ],
   "source": [
    "unseen_sentiments = lstm_model.predict(unseen_padded)\n",
    "\n",
    "unseen_sentiments"
   ]
  },
  {
   "cell_type": "code",
   "execution_count": 37,
   "id": "ed9f261a-cbd2-4f89-9d1d-cbee0213e77e",
   "metadata": {},
   "outputs": [
    {
     "data": {
      "text/html": [
       "<div>\n",
       "<style scoped>\n",
       "    .dataframe tbody tr th:only-of-type {\n",
       "        vertical-align: middle;\n",
       "    }\n",
       "\n",
       "    .dataframe tbody tr th {\n",
       "        vertical-align: top;\n",
       "    }\n",
       "\n",
       "    .dataframe thead th {\n",
       "        text-align: right;\n",
       "    }\n",
       "</style>\n",
       "<table border=\"1\" class=\"dataframe\">\n",
       "  <thead>\n",
       "    <tr style=\"text-align: right;\">\n",
       "      <th></th>\n",
       "      <th>Review</th>\n",
       "      <th>Rating</th>\n",
       "      <th>Predicted Sentiments</th>\n",
       "    </tr>\n",
       "  </thead>\n",
       "  <tbody>\n",
       "    <tr>\n",
       "      <th>0</th>\n",
       "      <td>This movie was a thrilling rollercoaster from ...</td>\n",
       "      <td>8</td>\n",
       "      <td>9.7</td>\n",
       "    </tr>\n",
       "    <tr>\n",
       "      <th>1</th>\n",
       "      <td>The plot was predictable and lacked originalit...</td>\n",
       "      <td>1</td>\n",
       "      <td>0.1</td>\n",
       "    </tr>\n",
       "    <tr>\n",
       "      <th>2</th>\n",
       "      <td>Visually stunning and highly creative, but the...</td>\n",
       "      <td>9</td>\n",
       "      <td>9.7</td>\n",
       "    </tr>\n",
       "    <tr>\n",
       "      <th>3</th>\n",
       "      <td>An absolute masterpiece! The acting was superb...</td>\n",
       "      <td>10</td>\n",
       "      <td>9.7</td>\n",
       "    </tr>\n",
       "    <tr>\n",
       "      <th>4</th>\n",
       "      <td>A good movie overall, but it suffered from som...</td>\n",
       "      <td>6</td>\n",
       "      <td>3.5</td>\n",
       "    </tr>\n",
       "  </tbody>\n",
       "</table>\n",
       "</div>"
      ],
      "text/plain": [
       "                                              Review  Rating  \\\n",
       "0  This movie was a thrilling rollercoaster from ...       8   \n",
       "1  The plot was predictable and lacked originalit...       1   \n",
       "2  Visually stunning and highly creative, but the...       9   \n",
       "3  An absolute masterpiece! The acting was superb...      10   \n",
       "4  A good movie overall, but it suffered from som...       6   \n",
       "\n",
       "   Predicted Sentiments  \n",
       "0                   9.7  \n",
       "1                   0.1  \n",
       "2                   9.7  \n",
       "3                   9.7  \n",
       "4                   3.5  "
      ]
     },
     "execution_count": 37,
     "metadata": {},
     "output_type": "execute_result"
    }
   ],
   "source": [
    "df['Predicted Sentiments'] = np.round(unseen_sentiments*10,1)\n",
    "df"
   ]
  },
  {
   "cell_type": "code",
   "execution_count": 38,
   "id": "afd6db8c-78f5-4e42-bcb5-2a5eebda5cbe",
   "metadata": {},
   "outputs": [],
   "source": [
    "# Now the saving part"
   ]
  },
  {
   "cell_type": "code",
   "execution_count": 39,
   "id": "9583099d-ade0-49a7-95bd-f5d35c487698",
   "metadata": {},
   "outputs": [],
   "source": [
    "# lstm_model.save(r\"./lstm_imdb_review.h5\", save_format='h5')"
   ]
  },
  {
   "cell_type": "code",
   "execution_count": 40,
   "id": "37ea55bb-55b0-4dde-a165-ccdfd4e18e67",
   "metadata": {},
   "outputs": [],
   "source": [
    "# lstm_model.save('./lstm-imdb-review.h5')"
   ]
  },
  {
   "cell_type": "code",
   "execution_count": 20,
   "id": "331cb21b-f69b-489e-818c-967ef1c11dbe",
   "metadata": {},
   "outputs": [],
   "source": [
    "### Under is all just testing with different input that's it "
   ]
  },
  {
   "cell_type": "code",
   "execution_count": 41,
   "id": "ad7f5b91-8e71-4008-b277-f54c39872e72",
   "metadata": {},
   "outputs": [],
   "source": [
    "review_text = \"\"\"It is no wonder that the film has such a high rating, it is quite literally breathtaking. What can I say that hasn't been said before? Not much, it's the story, the acting, the premise, but most of all, this movie is about how it makes you feel. Sometimes you watch a film, and can't remember it days later, this film lives with you, once you've seen it, you don't forget.\n",
    "\n",
    "The ultimate story of friendship, of hope, and of life, and overcoming adversity.\n",
    "\n",
    "I understand why so many class this as the best film of all time, it isn't mine, but I get it. If you haven't seen it, or haven't seen it for some time, you need to watch it, it's amazing. 10/10.\"\"\"\n"
   ]
  },
  {
   "cell_type": "code",
   "execution_count": 42,
   "id": "f9e6bd9a-a1d0-4023-966b-d15b635836ef",
   "metadata": {},
   "outputs": [],
   "source": [
    "reviews.append(review_text)"
   ]
  },
  {
   "cell_type": "code",
   "execution_count": 43,
   "id": "7442b1b2-1d9e-4908-9a57-0865f1d7fd6b",
   "metadata": {},
   "outputs": [],
   "source": [
    "ratings = [8, 1, 9, 10, 6,10]\n",
    "\n",
    "df = pd.DataFrame({\n",
    "    'Review': reviews,\n",
    "    'Rating': ratings\n",
    "})"
   ]
  },
  {
   "cell_type": "code",
   "execution_count": 44,
   "id": "6f64af0a-35e0-463a-9cab-a185301537ef",
   "metadata": {},
   "outputs": [
    {
     "data": {
      "text/html": [
       "<div>\n",
       "<style scoped>\n",
       "    .dataframe tbody tr th:only-of-type {\n",
       "        vertical-align: middle;\n",
       "    }\n",
       "\n",
       "    .dataframe tbody tr th {\n",
       "        vertical-align: top;\n",
       "    }\n",
       "\n",
       "    .dataframe thead th {\n",
       "        text-align: right;\n",
       "    }\n",
       "</style>\n",
       "<table border=\"1\" class=\"dataframe\">\n",
       "  <thead>\n",
       "    <tr style=\"text-align: right;\">\n",
       "      <th></th>\n",
       "      <th>Review</th>\n",
       "      <th>Rating</th>\n",
       "    </tr>\n",
       "  </thead>\n",
       "  <tbody>\n",
       "    <tr>\n",
       "      <th>0</th>\n",
       "      <td>This movie was a thrilling rollercoaster from ...</td>\n",
       "      <td>8</td>\n",
       "    </tr>\n",
       "    <tr>\n",
       "      <th>1</th>\n",
       "      <td>The plot was predictable and lacked originalit...</td>\n",
       "      <td>1</td>\n",
       "    </tr>\n",
       "    <tr>\n",
       "      <th>2</th>\n",
       "      <td>Visually stunning and highly creative, but the...</td>\n",
       "      <td>9</td>\n",
       "    </tr>\n",
       "    <tr>\n",
       "      <th>3</th>\n",
       "      <td>An absolute masterpiece! The acting was superb...</td>\n",
       "      <td>10</td>\n",
       "    </tr>\n",
       "    <tr>\n",
       "      <th>4</th>\n",
       "      <td>A good movie overall, but it suffered from som...</td>\n",
       "      <td>6</td>\n",
       "    </tr>\n",
       "    <tr>\n",
       "      <th>5</th>\n",
       "      <td>It is no wonder that the film has such a high ...</td>\n",
       "      <td>10</td>\n",
       "    </tr>\n",
       "  </tbody>\n",
       "</table>\n",
       "</div>"
      ],
      "text/plain": [
       "                                              Review  Rating\n",
       "0  This movie was a thrilling rollercoaster from ...       8\n",
       "1  The plot was predictable and lacked originalit...       1\n",
       "2  Visually stunning and highly creative, but the...       9\n",
       "3  An absolute masterpiece! The acting was superb...      10\n",
       "4  A good movie overall, but it suffered from som...       6\n",
       "5  It is no wonder that the film has such a high ...      10"
      ]
     },
     "execution_count": 44,
     "metadata": {},
     "output_type": "execute_result"
    }
   ],
   "source": [
    "df"
   ]
  },
  {
   "cell_type": "code",
   "execution_count": 45,
   "id": "dfd258d4-982a-40d8-a288-bf8f7ca20aee",
   "metadata": {},
   "outputs": [],
   "source": [
    "unseen_reviews = df['Review']\n",
    "unseen_processed = []\n",
    "for review in unseen_reviews:\n",
    "  review = preprocess_text(review)\n",
    "  unseen_processed.append(review)"
   ]
  },
  {
   "cell_type": "code",
   "execution_count": 46,
   "id": "4a579573-aaba-46bc-9a6a-99744a578967",
   "metadata": {},
   "outputs": [
    {
     "data": {
      "text/plain": [
       "(6, 100)"
      ]
     },
     "execution_count": 46,
     "metadata": {},
     "output_type": "execute_result"
    }
   ],
   "source": [
    "unseen_tokenized = word_tokenizer.texts_to_sequences(unseen_processed)\n",
    "unseen_padded = pad_sequences(unseen_tokenized, padding='post', maxlen=maxlen)\n",
    "unseen_padded.shape"
   ]
  },
  {
   "cell_type": "code",
   "execution_count": 47,
   "id": "83e2b29c-c86f-40eb-a3ae-0c80ca62705d",
   "metadata": {},
   "outputs": [
    {
     "name": "stdout",
     "output_type": "stream",
     "text": [
      "\u001b[1m1/1\u001b[0m \u001b[32m━━━━━━━━━━━━━━━━━━━━\u001b[0m\u001b[37m\u001b[0m \u001b[1m0s\u001b[0m 82ms/step\n"
     ]
    },
    {
     "data": {
      "text/plain": [
       "array([[0.97152036],\n",
       "       [0.00647334],\n",
       "       [0.97158855],\n",
       "       [0.97170264],\n",
       "       [0.34913337],\n",
       "       [0.9714597 ]], dtype=float32)"
      ]
     },
     "execution_count": 47,
     "metadata": {},
     "output_type": "execute_result"
    }
   ],
   "source": [
    "unseen_sentiments = lstm_model.predict(unseen_padded)\n",
    "\n",
    "unseen_sentiments"
   ]
  },
  {
   "cell_type": "code",
   "execution_count": 48,
   "id": "67abf9d5-0e67-411c-a93c-302d724e47ce",
   "metadata": {},
   "outputs": [
    {
     "data": {
      "text/html": [
       "<div>\n",
       "<style scoped>\n",
       "    .dataframe tbody tr th:only-of-type {\n",
       "        vertical-align: middle;\n",
       "    }\n",
       "\n",
       "    .dataframe tbody tr th {\n",
       "        vertical-align: top;\n",
       "    }\n",
       "\n",
       "    .dataframe thead th {\n",
       "        text-align: right;\n",
       "    }\n",
       "</style>\n",
       "<table border=\"1\" class=\"dataframe\">\n",
       "  <thead>\n",
       "    <tr style=\"text-align: right;\">\n",
       "      <th></th>\n",
       "      <th>Review</th>\n",
       "      <th>Rating</th>\n",
       "      <th>Predicted Sentiments</th>\n",
       "    </tr>\n",
       "  </thead>\n",
       "  <tbody>\n",
       "    <tr>\n",
       "      <th>0</th>\n",
       "      <td>This movie was a thrilling rollercoaster from ...</td>\n",
       "      <td>8</td>\n",
       "      <td>9.7</td>\n",
       "    </tr>\n",
       "    <tr>\n",
       "      <th>1</th>\n",
       "      <td>The plot was predictable and lacked originalit...</td>\n",
       "      <td>1</td>\n",
       "      <td>0.1</td>\n",
       "    </tr>\n",
       "    <tr>\n",
       "      <th>2</th>\n",
       "      <td>Visually stunning and highly creative, but the...</td>\n",
       "      <td>9</td>\n",
       "      <td>9.7</td>\n",
       "    </tr>\n",
       "    <tr>\n",
       "      <th>3</th>\n",
       "      <td>An absolute masterpiece! The acting was superb...</td>\n",
       "      <td>10</td>\n",
       "      <td>9.7</td>\n",
       "    </tr>\n",
       "    <tr>\n",
       "      <th>4</th>\n",
       "      <td>A good movie overall, but it suffered from som...</td>\n",
       "      <td>6</td>\n",
       "      <td>3.5</td>\n",
       "    </tr>\n",
       "    <tr>\n",
       "      <th>5</th>\n",
       "      <td>It is no wonder that the film has such a high ...</td>\n",
       "      <td>10</td>\n",
       "      <td>9.7</td>\n",
       "    </tr>\n",
       "  </tbody>\n",
       "</table>\n",
       "</div>"
      ],
      "text/plain": [
       "                                              Review  Rating  \\\n",
       "0  This movie was a thrilling rollercoaster from ...       8   \n",
       "1  The plot was predictable and lacked originalit...       1   \n",
       "2  Visually stunning and highly creative, but the...       9   \n",
       "3  An absolute masterpiece! The acting was superb...      10   \n",
       "4  A good movie overall, but it suffered from som...       6   \n",
       "5  It is no wonder that the film has such a high ...      10   \n",
       "\n",
       "   Predicted Sentiments  \n",
       "0                   9.7  \n",
       "1                   0.1  \n",
       "2                   9.7  \n",
       "3                   9.7  \n",
       "4                   3.5  \n",
       "5                   9.7  "
      ]
     },
     "execution_count": 48,
     "metadata": {},
     "output_type": "execute_result"
    }
   ],
   "source": [
    "df['Predicted Sentiments'] = np.round(unseen_sentiments*10,1)\n",
    "df"
   ]
  },
  {
   "cell_type": "code",
   "execution_count": 71,
   "id": "fc1470d9-925a-4a3a-a0b4-f2f43155ec01",
   "metadata": {},
   "outputs": [],
   "source": [
    "lstm_model.save('lstm123.keras')"
   ]
  },
  {
   "cell_type": "code",
   "execution_count": 50,
   "id": "eaddab11-ea75-4f29-b88f-aac1dfaa31e5",
   "metadata": {},
   "outputs": [],
   "source": [
    "review_text = \"\"\"It is no wonder that the film has such a high rating, it is quite literally breathtaking. What can I say that hasn't been said before? Not much, it's the story, the acting, the premise, but most of all, this movie is about how it makes you feel. Sometimes you watch a film, and can't remember it days later, this film lives with you, once you've seen it, you don't forget.\n",
    "\n",
    "The ultimate story of friendship, of hope, and of life, and overcoming adversity.\n",
    "\n",
    "I understand why so many class this as the best film of all time, it isn't mine, but I get it. If you haven't seen it, or haven't seen it for some time, you need to watch it, it's amazing. 10/10.\"\"\"\n"
   ]
  },
  {
   "cell_type": "code",
   "execution_count": 51,
   "id": "b443c41e-7390-46ed-b4f7-5ad4829bf4ab",
   "metadata": {},
   "outputs": [],
   "source": [
    "review = preprocess_text(review_text)"
   ]
  },
  {
   "cell_type": "code",
   "execution_count": 52,
   "id": "8ceca410-5c7c-4ec7-bdcb-557f000379ef",
   "metadata": {},
   "outputs": [],
   "source": [
    "unseen_tokenized = word_tokenizer.texts_to_sequences([unseen_processed])\n",
    "unseen_padded = pad_sequences(unseen_tokenized, padding='post', maxlen=maxlen)"
   ]
  },
  {
   "cell_type": "code",
   "execution_count": 53,
   "id": "19d5c88c-8d4f-40cd-8139-e3f8a716b75f",
   "metadata": {},
   "outputs": [
    {
     "name": "stdout",
     "output_type": "stream",
     "text": [
      "\u001b[1m1/1\u001b[0m \u001b[32m━━━━━━━━━━━━━━━━━━━━\u001b[0m\u001b[37m\u001b[0m \u001b[1m0s\u001b[0m 26ms/step\n"
     ]
    },
    {
     "data": {
      "text/plain": [
       "array([[0.72549963]], dtype=float32)"
      ]
     },
     "execution_count": 53,
     "metadata": {},
     "output_type": "execute_result"
    }
   ],
   "source": [
    "unseen_sentiments = lstm_model.predict(unseen_padded)\n",
    "unseen_sentiments"
   ]
  },
  {
   "cell_type": "code",
   "execution_count": 54,
   "id": "201bc300-3cd0-4b65-8972-f08a26fb654e",
   "metadata": {},
   "outputs": [
    {
     "data": {
      "text/plain": [
       "array([[7.3]], dtype=float32)"
      ]
     },
     "execution_count": 54,
     "metadata": {},
     "output_type": "execute_result"
    }
   ],
   "source": [
    "np.round(unseen_sentiments*10,1)"
   ]
  },
  {
   "cell_type": "code",
   "execution_count": 55,
   "id": "97b1cfe3-4687-4ac9-9b9e-5ff87b748780",
   "metadata": {},
   "outputs": [
    {
     "name": "stdout",
     "output_type": "stream",
     "text": [
      "Shape of padded sequence: (1, 100)\n"
     ]
    }
   ],
   "source": [
    "print(\"Shape of padded sequence:\", unseen_padded.shape)"
   ]
  },
  {
   "cell_type": "code",
   "execution_count": 56,
   "id": "b18867e6-97f7-4bbd-8560-c65647a3cc89",
   "metadata": {},
   "outputs": [],
   "source": [
    "user_review = pd.read_csv('./userrating.csv')"
   ]
  },
  {
   "cell_type": "code",
   "execution_count": 57,
   "id": "c107050d-c584-4d16-9e42-6e38a7ef9ac8",
   "metadata": {},
   "outputs": [],
   "source": [
    "user_review.drop(columns=user_review.columns[0],axis=\"1\",inplace=True)"
   ]
  },
  {
   "cell_type": "code",
   "execution_count": 58,
   "id": "65d5eb53-f9ac-42e1-ab53-7ce0833c5117",
   "metadata": {},
   "outputs": [
    {
     "data": {
      "text/html": [
       "<div>\n",
       "<style scoped>\n",
       "    .dataframe tbody tr th:only-of-type {\n",
       "        vertical-align: middle;\n",
       "    }\n",
       "\n",
       "    .dataframe tbody tr th {\n",
       "        vertical-align: top;\n",
       "    }\n",
       "\n",
       "    .dataframe thead th {\n",
       "        text-align: right;\n",
       "    }\n",
       "</style>\n",
       "<table border=\"1\" class=\"dataframe\">\n",
       "  <thead>\n",
       "    <tr style=\"text-align: right;\">\n",
       "      <th></th>\n",
       "      <th>Review</th>\n",
       "      <th>Rating</th>\n",
       "    </tr>\n",
       "  </thead>\n",
       "  <tbody>\n",
       "    <tr>\n",
       "      <th>0</th>\n",
       "      <td>One of the early scenes in \"Pulp Fiction\" feat...</td>\n",
       "      <td>10.0</td>\n",
       "    </tr>\n",
       "    <tr>\n",
       "      <th>1</th>\n",
       "      <td>I like the bit with the cheeseburger. It makes...</td>\n",
       "      <td>10.0</td>\n",
       "    </tr>\n",
       "    <tr>\n",
       "      <th>2</th>\n",
       "      <td>This is Tarantino's masterpiece, there's no ot...</td>\n",
       "      <td>10.0</td>\n",
       "    </tr>\n",
       "    <tr>\n",
       "      <th>3</th>\n",
       "      <td>I can only speak for myself, but I had never s...</td>\n",
       "      <td>10.0</td>\n",
       "    </tr>\n",
       "    <tr>\n",
       "      <th>4</th>\n",
       "      <td>Pulp Fiction is the most original, rule breaki...</td>\n",
       "      <td>10.0</td>\n",
       "    </tr>\n",
       "    <tr>\n",
       "      <th>5</th>\n",
       "      <td>Before I saw this I assumed it was probably ov...</td>\n",
       "      <td>10.0</td>\n",
       "    </tr>\n",
       "    <tr>\n",
       "      <th>6</th>\n",
       "      <td>To put this in context, I am 34 years old and ...</td>\n",
       "      <td>10.0</td>\n",
       "    </tr>\n",
       "    <tr>\n",
       "      <th>7</th>\n",
       "      <td>I don't get as much out of Pulp Fiction as eve...</td>\n",
       "      <td>7.0</td>\n",
       "    </tr>\n",
       "    <tr>\n",
       "      <th>8</th>\n",
       "      <td>My oh my.  \"Pulp Fiction\" is one of those roll...</td>\n",
       "      <td>NaN</td>\n",
       "    </tr>\n",
       "    <tr>\n",
       "      <th>9</th>\n",
       "      <td>I don't understand why this is the 8th highest...</td>\n",
       "      <td>4.0</td>\n",
       "    </tr>\n",
       "    <tr>\n",
       "      <th>10</th>\n",
       "      <td>Viewers are taken on a ride through three diff...</td>\n",
       "      <td>10.0</td>\n",
       "    </tr>\n",
       "    <tr>\n",
       "      <th>11</th>\n",
       "      <td>Pulp Fiction may be the single best film ever ...</td>\n",
       "      <td>10.0</td>\n",
       "    </tr>\n",
       "    <tr>\n",
       "      <th>12</th>\n",
       "      <td>This is my favorite film of all time. Every se...</td>\n",
       "      <td>10.0</td>\n",
       "    </tr>\n",
       "    <tr>\n",
       "      <th>13</th>\n",
       "      <td>I heard so many people claim that this movie i...</td>\n",
       "      <td>6.0</td>\n",
       "    </tr>\n",
       "    <tr>\n",
       "      <th>14</th>\n",
       "      <td>Tarantino is without a doubt one of the best d...</td>\n",
       "      <td>NaN</td>\n",
       "    </tr>\n",
       "    <tr>\n",
       "      <th>15</th>\n",
       "      <td>The proof of the pudding, they say, is in the ...</td>\n",
       "      <td>5.0</td>\n",
       "    </tr>\n",
       "    <tr>\n",
       "      <th>16</th>\n",
       "      <td>Conflicted on this one. I like a lot of elemen...</td>\n",
       "      <td>8.0</td>\n",
       "    </tr>\n",
       "    <tr>\n",
       "      <th>17</th>\n",
       "      <td>This movie is such a masterpiece for many reas...</td>\n",
       "      <td>10.0</td>\n",
       "    </tr>\n",
       "    <tr>\n",
       "      <th>18</th>\n",
       "      <td>It's not a film it's a experience. The charact...</td>\n",
       "      <td>10.0</td>\n",
       "    </tr>\n",
       "  </tbody>\n",
       "</table>\n",
       "</div>"
      ],
      "text/plain": [
       "                                               Review  Rating\n",
       "0   One of the early scenes in \"Pulp Fiction\" feat...    10.0\n",
       "1   I like the bit with the cheeseburger. It makes...    10.0\n",
       "2   This is Tarantino's masterpiece, there's no ot...    10.0\n",
       "3   I can only speak for myself, but I had never s...    10.0\n",
       "4   Pulp Fiction is the most original, rule breaki...    10.0\n",
       "5   Before I saw this I assumed it was probably ov...    10.0\n",
       "6   To put this in context, I am 34 years old and ...    10.0\n",
       "7   I don't get as much out of Pulp Fiction as eve...     7.0\n",
       "8   My oh my.  \"Pulp Fiction\" is one of those roll...     NaN\n",
       "9   I don't understand why this is the 8th highest...     4.0\n",
       "10  Viewers are taken on a ride through three diff...    10.0\n",
       "11  Pulp Fiction may be the single best film ever ...    10.0\n",
       "12  This is my favorite film of all time. Every se...    10.0\n",
       "13  I heard so many people claim that this movie i...     6.0\n",
       "14  Tarantino is without a doubt one of the best d...     NaN\n",
       "15  The proof of the pudding, they say, is in the ...     5.0\n",
       "16  Conflicted on this one. I like a lot of elemen...     8.0\n",
       "17  This movie is such a masterpiece for many reas...    10.0\n",
       "18  It's not a film it's a experience. The charact...    10.0"
      ]
     },
     "execution_count": 58,
     "metadata": {},
     "output_type": "execute_result"
    }
   ],
   "source": [
    "user_review"
   ]
  },
  {
   "cell_type": "code",
   "execution_count": 59,
   "id": "08ea67e9-a96a-4afc-9911-00f9c3b1e387",
   "metadata": {},
   "outputs": [],
   "source": [
    "unseen_reviews = user_review['Review']\n",
    "unseen_processed = []\n",
    "for review in unseen_reviews:\n",
    "  review = preprocess_text(review)\n",
    "  unseen_processed.append(review)"
   ]
  },
  {
   "cell_type": "code",
   "execution_count": 60,
   "id": "d04dc269-c6c6-4a51-a723-e883ec32bef2",
   "metadata": {},
   "outputs": [
    {
     "data": {
      "text/plain": [
       "(19, 100)"
      ]
     },
     "execution_count": 60,
     "metadata": {},
     "output_type": "execute_result"
    }
   ],
   "source": [
    "unseen_tokenized = word_tokenizer.texts_to_sequences(unseen_processed)\n",
    "unseen_padded = pad_sequences(unseen_tokenized, padding='post', maxlen=maxlen)\n",
    "unseen_padded.shape"
   ]
  },
  {
   "cell_type": "code",
   "execution_count": 61,
   "id": "4424eae7-7e63-4733-9b32-b3025da07663",
   "metadata": {},
   "outputs": [
    {
     "name": "stdout",
     "output_type": "stream",
     "text": [
      "\u001b[1m1/1\u001b[0m \u001b[32m━━━━━━━━━━━━━━━━━━━━\u001b[0m\u001b[37m\u001b[0m \u001b[1m0s\u001b[0m 28ms/step\n"
     ]
    },
    {
     "data": {
      "text/plain": [
       "array([[0.92900187],\n",
       "       [0.7921445 ],\n",
       "       [0.9708574 ],\n",
       "       [0.98616   ],\n",
       "       [0.96897864],\n",
       "       [0.9453701 ],\n",
       "       [0.7616857 ],\n",
       "       [0.97114843],\n",
       "       [0.98441887],\n",
       "       [0.9660681 ],\n",
       "       [0.74758387],\n",
       "       [0.97009397],\n",
       "       [0.97019136],\n",
       "       [0.9697911 ],\n",
       "       [0.97307825],\n",
       "       [0.14331198],\n",
       "       [0.9690123 ],\n",
       "       [0.96995854],\n",
       "       [0.6781916 ]], dtype=float32)"
      ]
     },
     "execution_count": 61,
     "metadata": {},
     "output_type": "execute_result"
    }
   ],
   "source": [
    "unseen_sentiments = lstm_model.predict(unseen_padded)\n",
    "\n",
    "unseen_sentiments"
   ]
  },
  {
   "cell_type": "code",
   "execution_count": 62,
   "id": "c47caa61-f443-4cc8-b31f-b291177048d0",
   "metadata": {},
   "outputs": [
    {
     "data": {
      "text/html": [
       "<div>\n",
       "<style scoped>\n",
       "    .dataframe tbody tr th:only-of-type {\n",
       "        vertical-align: middle;\n",
       "    }\n",
       "\n",
       "    .dataframe tbody tr th {\n",
       "        vertical-align: top;\n",
       "    }\n",
       "\n",
       "    .dataframe thead th {\n",
       "        text-align: right;\n",
       "    }\n",
       "</style>\n",
       "<table border=\"1\" class=\"dataframe\">\n",
       "  <thead>\n",
       "    <tr style=\"text-align: right;\">\n",
       "      <th></th>\n",
       "      <th>Review</th>\n",
       "      <th>Rating</th>\n",
       "      <th>Predicted Sentiments</th>\n",
       "    </tr>\n",
       "  </thead>\n",
       "  <tbody>\n",
       "    <tr>\n",
       "      <th>0</th>\n",
       "      <td>One of the early scenes in \"Pulp Fiction\" feat...</td>\n",
       "      <td>10.0</td>\n",
       "      <td>9.3</td>\n",
       "    </tr>\n",
       "    <tr>\n",
       "      <th>1</th>\n",
       "      <td>I like the bit with the cheeseburger. It makes...</td>\n",
       "      <td>10.0</td>\n",
       "      <td>7.9</td>\n",
       "    </tr>\n",
       "    <tr>\n",
       "      <th>2</th>\n",
       "      <td>This is Tarantino's masterpiece, there's no ot...</td>\n",
       "      <td>10.0</td>\n",
       "      <td>9.7</td>\n",
       "    </tr>\n",
       "    <tr>\n",
       "      <th>3</th>\n",
       "      <td>I can only speak for myself, but I had never s...</td>\n",
       "      <td>10.0</td>\n",
       "      <td>9.9</td>\n",
       "    </tr>\n",
       "    <tr>\n",
       "      <th>4</th>\n",
       "      <td>Pulp Fiction is the most original, rule breaki...</td>\n",
       "      <td>10.0</td>\n",
       "      <td>9.7</td>\n",
       "    </tr>\n",
       "    <tr>\n",
       "      <th>5</th>\n",
       "      <td>Before I saw this I assumed it was probably ov...</td>\n",
       "      <td>10.0</td>\n",
       "      <td>9.5</td>\n",
       "    </tr>\n",
       "    <tr>\n",
       "      <th>6</th>\n",
       "      <td>To put this in context, I am 34 years old and ...</td>\n",
       "      <td>10.0</td>\n",
       "      <td>7.6</td>\n",
       "    </tr>\n",
       "    <tr>\n",
       "      <th>7</th>\n",
       "      <td>I don't get as much out of Pulp Fiction as eve...</td>\n",
       "      <td>7.0</td>\n",
       "      <td>9.7</td>\n",
       "    </tr>\n",
       "    <tr>\n",
       "      <th>8</th>\n",
       "      <td>My oh my.  \"Pulp Fiction\" is one of those roll...</td>\n",
       "      <td>NaN</td>\n",
       "      <td>9.8</td>\n",
       "    </tr>\n",
       "    <tr>\n",
       "      <th>9</th>\n",
       "      <td>I don't understand why this is the 8th highest...</td>\n",
       "      <td>4.0</td>\n",
       "      <td>9.7</td>\n",
       "    </tr>\n",
       "    <tr>\n",
       "      <th>10</th>\n",
       "      <td>Viewers are taken on a ride through three diff...</td>\n",
       "      <td>10.0</td>\n",
       "      <td>7.5</td>\n",
       "    </tr>\n",
       "    <tr>\n",
       "      <th>11</th>\n",
       "      <td>Pulp Fiction may be the single best film ever ...</td>\n",
       "      <td>10.0</td>\n",
       "      <td>9.7</td>\n",
       "    </tr>\n",
       "    <tr>\n",
       "      <th>12</th>\n",
       "      <td>This is my favorite film of all time. Every se...</td>\n",
       "      <td>10.0</td>\n",
       "      <td>9.7</td>\n",
       "    </tr>\n",
       "    <tr>\n",
       "      <th>13</th>\n",
       "      <td>I heard so many people claim that this movie i...</td>\n",
       "      <td>6.0</td>\n",
       "      <td>9.7</td>\n",
       "    </tr>\n",
       "    <tr>\n",
       "      <th>14</th>\n",
       "      <td>Tarantino is without a doubt one of the best d...</td>\n",
       "      <td>NaN</td>\n",
       "      <td>9.7</td>\n",
       "    </tr>\n",
       "    <tr>\n",
       "      <th>15</th>\n",
       "      <td>The proof of the pudding, they say, is in the ...</td>\n",
       "      <td>5.0</td>\n",
       "      <td>1.4</td>\n",
       "    </tr>\n",
       "    <tr>\n",
       "      <th>16</th>\n",
       "      <td>Conflicted on this one. I like a lot of elemen...</td>\n",
       "      <td>8.0</td>\n",
       "      <td>9.7</td>\n",
       "    </tr>\n",
       "    <tr>\n",
       "      <th>17</th>\n",
       "      <td>This movie is such a masterpiece for many reas...</td>\n",
       "      <td>10.0</td>\n",
       "      <td>9.7</td>\n",
       "    </tr>\n",
       "    <tr>\n",
       "      <th>18</th>\n",
       "      <td>It's not a film it's a experience. The charact...</td>\n",
       "      <td>10.0</td>\n",
       "      <td>6.8</td>\n",
       "    </tr>\n",
       "  </tbody>\n",
       "</table>\n",
       "</div>"
      ],
      "text/plain": [
       "                                               Review  Rating  \\\n",
       "0   One of the early scenes in \"Pulp Fiction\" feat...    10.0   \n",
       "1   I like the bit with the cheeseburger. It makes...    10.0   \n",
       "2   This is Tarantino's masterpiece, there's no ot...    10.0   \n",
       "3   I can only speak for myself, but I had never s...    10.0   \n",
       "4   Pulp Fiction is the most original, rule breaki...    10.0   \n",
       "5   Before I saw this I assumed it was probably ov...    10.0   \n",
       "6   To put this in context, I am 34 years old and ...    10.0   \n",
       "7   I don't get as much out of Pulp Fiction as eve...     7.0   \n",
       "8   My oh my.  \"Pulp Fiction\" is one of those roll...     NaN   \n",
       "9   I don't understand why this is the 8th highest...     4.0   \n",
       "10  Viewers are taken on a ride through three diff...    10.0   \n",
       "11  Pulp Fiction may be the single best film ever ...    10.0   \n",
       "12  This is my favorite film of all time. Every se...    10.0   \n",
       "13  I heard so many people claim that this movie i...     6.0   \n",
       "14  Tarantino is without a doubt one of the best d...     NaN   \n",
       "15  The proof of the pudding, they say, is in the ...     5.0   \n",
       "16  Conflicted on this one. I like a lot of elemen...     8.0   \n",
       "17  This movie is such a masterpiece for many reas...    10.0   \n",
       "18  It's not a film it's a experience. The charact...    10.0   \n",
       "\n",
       "    Predicted Sentiments  \n",
       "0                    9.3  \n",
       "1                    7.9  \n",
       "2                    9.7  \n",
       "3                    9.9  \n",
       "4                    9.7  \n",
       "5                    9.5  \n",
       "6                    7.6  \n",
       "7                    9.7  \n",
       "8                    9.8  \n",
       "9                    9.7  \n",
       "10                   7.5  \n",
       "11                   9.7  \n",
       "12                   9.7  \n",
       "13                   9.7  \n",
       "14                   9.7  \n",
       "15                   1.4  \n",
       "16                   9.7  \n",
       "17                   9.7  \n",
       "18                   6.8  "
      ]
     },
     "execution_count": 62,
     "metadata": {},
     "output_type": "execute_result"
    }
   ],
   "source": [
    "user_review['Predicted Sentiments'] = np.round(unseen_sentiments*10,1)\n",
    "user_review"
   ]
  },
  {
   "cell_type": "code",
   "execution_count": 64,
   "id": "e53304ac-123b-4125-824d-bdcf0672e079",
   "metadata": {},
   "outputs": [],
   "source": [
    "dftest = pd.read_csv(r'./main/test.csv')"
   ]
  },
  {
   "cell_type": "code",
   "execution_count": 65,
   "id": "5545c4d9-4a82-43c6-ab70-8d87b8e26514",
   "metadata": {},
   "outputs": [
    {
     "data": {
      "text/html": [
       "<div>\n",
       "<style scoped>\n",
       "    .dataframe tbody tr th:only-of-type {\n",
       "        vertical-align: middle;\n",
       "    }\n",
       "\n",
       "    .dataframe tbody tr th {\n",
       "        vertical-align: top;\n",
       "    }\n",
       "\n",
       "    .dataframe thead th {\n",
       "        text-align: right;\n",
       "    }\n",
       "</style>\n",
       "<table border=\"1\" class=\"dataframe\">\n",
       "  <thead>\n",
       "    <tr style=\"text-align: right;\">\n",
       "      <th></th>\n",
       "      <th>Unnamed: 0</th>\n",
       "      <th>user_review</th>\n",
       "      <th>user_score</th>\n",
       "    </tr>\n",
       "  </thead>\n",
       "  <tbody>\n",
       "    <tr>\n",
       "      <th>0</th>\n",
       "      <td>0</td>\n",
       "      <td>Sometimes I just need to see the start. Or end...</td>\n",
       "      <td>10.0</td>\n",
       "    </tr>\n",
       "    <tr>\n",
       "      <th>1</th>\n",
       "      <td>1</td>\n",
       "      <td>After watching this insane movie in the theatr...</td>\n",
       "      <td>10.0</td>\n",
       "    </tr>\n",
       "    <tr>\n",
       "      <th>2</th>\n",
       "      <td>2</td>\n",
       "      <td>A lot has been said and written about Interste...</td>\n",
       "      <td>10.0</td>\n",
       "    </tr>\n",
       "    <tr>\n",
       "      <th>3</th>\n",
       "      <td>3</td>\n",
       "      <td>Interstellar is a movie like no other. Unlike ...</td>\n",
       "      <td>10.0</td>\n",
       "    </tr>\n",
       "    <tr>\n",
       "      <th>4</th>\n",
       "      <td>4</td>\n",
       "      <td>Amongst the best movies of all time. The story...</td>\n",
       "      <td>10.0</td>\n",
       "    </tr>\n",
       "    <tr>\n",
       "      <th>5</th>\n",
       "      <td>5</td>\n",
       "      <td>This movie was the best written, acted, visual...</td>\n",
       "      <td>10.0</td>\n",
       "    </tr>\n",
       "    <tr>\n",
       "      <th>6</th>\n",
       "      <td>6</td>\n",
       "      <td>I think just about everything has been said ab...</td>\n",
       "      <td>10.0</td>\n",
       "    </tr>\n",
       "    <tr>\n",
       "      <th>7</th>\n",
       "      <td>7</td>\n",
       "      <td>I judge a movie by how long it takes me to rea...</td>\n",
       "      <td>10.0</td>\n",
       "    </tr>\n",
       "    <tr>\n",
       "      <th>8</th>\n",
       "      <td>8</td>\n",
       "      <td>A science-fiction masterpiece. Nolan executes ...</td>\n",
       "      <td>10.0</td>\n",
       "    </tr>\n",
       "    <tr>\n",
       "      <th>9</th>\n",
       "      <td>9</td>\n",
       "      <td>I was extremely lucky to get the chance to see...</td>\n",
       "      <td>NaN</td>\n",
       "    </tr>\n",
       "    <tr>\n",
       "      <th>10</th>\n",
       "      <td>10</td>\n",
       "      <td>I will keep this short for the sake of not spo...</td>\n",
       "      <td>6.0</td>\n",
       "    </tr>\n",
       "    <tr>\n",
       "      <th>11</th>\n",
       "      <td>11</td>\n",
       "      <td>All is amazing. I can't describe anything. It'...</td>\n",
       "      <td>10.0</td>\n",
       "    </tr>\n",
       "    <tr>\n",
       "      <th>12</th>\n",
       "      <td>12</td>\n",
       "      <td>\"Love is the one thing we're capable of percei...</td>\n",
       "      <td>5.0</td>\n",
       "    </tr>\n",
       "    <tr>\n",
       "      <th>13</th>\n",
       "      <td>13</td>\n",
       "      <td>Interstellar - ReviewCertain things in life ar...</td>\n",
       "      <td>10.0</td>\n",
       "    </tr>\n",
       "    <tr>\n",
       "      <th>14</th>\n",
       "      <td>14</td>\n",
       "      <td>I hadn't seen this but movie and caught it on ...</td>\n",
       "      <td>10.0</td>\n",
       "    </tr>\n",
       "    <tr>\n",
       "      <th>15</th>\n",
       "      <td>15</td>\n",
       "      <td>There is not even a single day I don't think o...</td>\n",
       "      <td>10.0</td>\n",
       "    </tr>\n",
       "    <tr>\n",
       "      <th>16</th>\n",
       "      <td>16</td>\n",
       "      <td>I have been a cinema lover for years, read a l...</td>\n",
       "      <td>10.0</td>\n",
       "    </tr>\n",
       "    <tr>\n",
       "      <th>17</th>\n",
       "      <td>17</td>\n",
       "      <td>It's difficult to put into words how powerful ...</td>\n",
       "      <td>10.0</td>\n",
       "    </tr>\n",
       "    <tr>\n",
       "      <th>18</th>\n",
       "      <td>18</td>\n",
       "      <td>I understand Mr. Nolan purposely made the dial...</td>\n",
       "      <td>NaN</td>\n",
       "    </tr>\n",
       "    <tr>\n",
       "      <th>19</th>\n",
       "      <td>19</td>\n",
       "      <td>Was this movie terrible? No, but for as much p...</td>\n",
       "      <td>7.0</td>\n",
       "    </tr>\n",
       "    <tr>\n",
       "      <th>20</th>\n",
       "      <td>20</td>\n",
       "      <td>The film begins by establishing at his own rhy...</td>\n",
       "      <td>10.0</td>\n",
       "    </tr>\n",
       "    <tr>\n",
       "      <th>21</th>\n",
       "      <td>21</td>\n",
       "      <td>Even though I'm a big fan of Christofer Nolan,...</td>\n",
       "      <td>7.0</td>\n",
       "    </tr>\n",
       "    <tr>\n",
       "      <th>22</th>\n",
       "      <td>22</td>\n",
       "      <td>If you saw \"sunshine\" and thought \"wow, good t...</td>\n",
       "      <td>4.0</td>\n",
       "    </tr>\n",
       "  </tbody>\n",
       "</table>\n",
       "</div>"
      ],
      "text/plain": [
       "    Unnamed: 0                                        user_review  user_score\n",
       "0            0  Sometimes I just need to see the start. Or end...        10.0\n",
       "1            1  After watching this insane movie in the theatr...        10.0\n",
       "2            2  A lot has been said and written about Interste...        10.0\n",
       "3            3  Interstellar is a movie like no other. Unlike ...        10.0\n",
       "4            4  Amongst the best movies of all time. The story...        10.0\n",
       "5            5  This movie was the best written, acted, visual...        10.0\n",
       "6            6  I think just about everything has been said ab...        10.0\n",
       "7            7  I judge a movie by how long it takes me to rea...        10.0\n",
       "8            8  A science-fiction masterpiece. Nolan executes ...        10.0\n",
       "9            9  I was extremely lucky to get the chance to see...         NaN\n",
       "10          10  I will keep this short for the sake of not spo...         6.0\n",
       "11          11  All is amazing. I can't describe anything. It'...        10.0\n",
       "12          12  \"Love is the one thing we're capable of percei...         5.0\n",
       "13          13  Interstellar - ReviewCertain things in life ar...        10.0\n",
       "14          14  I hadn't seen this but movie and caught it on ...        10.0\n",
       "15          15  There is not even a single day I don't think o...        10.0\n",
       "16          16  I have been a cinema lover for years, read a l...        10.0\n",
       "17          17  It's difficult to put into words how powerful ...        10.0\n",
       "18          18  I understand Mr. Nolan purposely made the dial...         NaN\n",
       "19          19  Was this movie terrible? No, but for as much p...         7.0\n",
       "20          20  The film begins by establishing at his own rhy...        10.0\n",
       "21          21  Even though I'm a big fan of Christofer Nolan,...         7.0\n",
       "22          22  If you saw \"sunshine\" and thought \"wow, good t...         4.0"
      ]
     },
     "execution_count": 65,
     "metadata": {},
     "output_type": "execute_result"
    }
   ],
   "source": [
    "dftest"
   ]
  },
  {
   "cell_type": "code",
   "execution_count": 66,
   "id": "e479c903-7da2-4b53-9d51-6001b0577aca",
   "metadata": {},
   "outputs": [],
   "source": [
    "unseen_reviews = dftest['user_review']\n",
    "unseen_processed = []\n",
    "for review in unseen_reviews:\n",
    "  review = preprocess_text(review)\n",
    "  unseen_processed.append(review)"
   ]
  },
  {
   "cell_type": "code",
   "execution_count": 67,
   "id": "3b23ddca-e780-409c-b94e-702dcfb3a4db",
   "metadata": {},
   "outputs": [
    {
     "data": {
      "text/plain": [
       "(23, 100)"
      ]
     },
     "execution_count": 67,
     "metadata": {},
     "output_type": "execute_result"
    }
   ],
   "source": [
    "unseen_tokenized = word_tokenizer.texts_to_sequences(unseen_processed)\n",
    "unseen_padded = pad_sequences(unseen_tokenized, padding='post', maxlen=maxlen)\n",
    "unseen_padded.shape"
   ]
  },
  {
   "cell_type": "code",
   "execution_count": 68,
   "id": "0c962286-b3bb-44f9-8680-83c189cc2c3f",
   "metadata": {},
   "outputs": [
    {
     "name": "stdout",
     "output_type": "stream",
     "text": [
      "\u001b[1m1/1\u001b[0m \u001b[32m━━━━━━━━━━━━━━━━━━━━\u001b[0m\u001b[37m\u001b[0m \u001b[1m0s\u001b[0m 45ms/step\n"
     ]
    },
    {
     "data": {
      "text/plain": [
       "array([[0.96995914],\n",
       "       [0.89763343],\n",
       "       [0.9275556 ],\n",
       "       [0.97955894],\n",
       "       [0.9685318 ],\n",
       "       [0.97010124],\n",
       "       [0.925446  ],\n",
       "       [0.8890939 ],\n",
       "       [0.97174215],\n",
       "       [0.9967243 ],\n",
       "       [0.986041  ],\n",
       "       [0.971256  ],\n",
       "       [0.0150959 ],\n",
       "       [0.816035  ],\n",
       "       [0.9705145 ],\n",
       "       [0.9683309 ],\n",
       "       [0.9216148 ],\n",
       "       [0.9816844 ],\n",
       "       [0.00830099],\n",
       "       [0.78200364],\n",
       "       [0.7256843 ],\n",
       "       [0.00593681],\n",
       "       [0.08533693]], dtype=float32)"
      ]
     },
     "execution_count": 68,
     "metadata": {},
     "output_type": "execute_result"
    }
   ],
   "source": [
    "unseen_sentiments = lstm_model.predict(unseen_padded)\n",
    "\n",
    "unseen_sentiments"
   ]
  },
  {
   "cell_type": "code",
   "execution_count": 70,
   "id": "4d8d6654-402c-43aa-b517-ff26841cdfd3",
   "metadata": {},
   "outputs": [
    {
     "data": {
      "text/html": [
       "<div>\n",
       "<style scoped>\n",
       "    .dataframe tbody tr th:only-of-type {\n",
       "        vertical-align: middle;\n",
       "    }\n",
       "\n",
       "    .dataframe tbody tr th {\n",
       "        vertical-align: top;\n",
       "    }\n",
       "\n",
       "    .dataframe thead th {\n",
       "        text-align: right;\n",
       "    }\n",
       "</style>\n",
       "<table border=\"1\" class=\"dataframe\">\n",
       "  <thead>\n",
       "    <tr style=\"text-align: right;\">\n",
       "      <th></th>\n",
       "      <th>Unnamed: 0</th>\n",
       "      <th>user_review</th>\n",
       "      <th>user_score</th>\n",
       "      <th>Predicted Sentiments</th>\n",
       "    </tr>\n",
       "  </thead>\n",
       "  <tbody>\n",
       "    <tr>\n",
       "      <th>0</th>\n",
       "      <td>0</td>\n",
       "      <td>Sometimes I just need to see the start. Or end...</td>\n",
       "      <td>10.0</td>\n",
       "      <td>9.7</td>\n",
       "    </tr>\n",
       "    <tr>\n",
       "      <th>1</th>\n",
       "      <td>1</td>\n",
       "      <td>After watching this insane movie in the theatr...</td>\n",
       "      <td>10.0</td>\n",
       "      <td>9.0</td>\n",
       "    </tr>\n",
       "    <tr>\n",
       "      <th>2</th>\n",
       "      <td>2</td>\n",
       "      <td>A lot has been said and written about Interste...</td>\n",
       "      <td>10.0</td>\n",
       "      <td>9.3</td>\n",
       "    </tr>\n",
       "    <tr>\n",
       "      <th>3</th>\n",
       "      <td>3</td>\n",
       "      <td>Interstellar is a movie like no other. Unlike ...</td>\n",
       "      <td>10.0</td>\n",
       "      <td>9.8</td>\n",
       "    </tr>\n",
       "    <tr>\n",
       "      <th>4</th>\n",
       "      <td>4</td>\n",
       "      <td>Amongst the best movies of all time. The story...</td>\n",
       "      <td>10.0</td>\n",
       "      <td>9.7</td>\n",
       "    </tr>\n",
       "    <tr>\n",
       "      <th>5</th>\n",
       "      <td>5</td>\n",
       "      <td>This movie was the best written, acted, visual...</td>\n",
       "      <td>10.0</td>\n",
       "      <td>9.7</td>\n",
       "    </tr>\n",
       "    <tr>\n",
       "      <th>6</th>\n",
       "      <td>6</td>\n",
       "      <td>I think just about everything has been said ab...</td>\n",
       "      <td>10.0</td>\n",
       "      <td>9.3</td>\n",
       "    </tr>\n",
       "    <tr>\n",
       "      <th>7</th>\n",
       "      <td>7</td>\n",
       "      <td>I judge a movie by how long it takes me to rea...</td>\n",
       "      <td>10.0</td>\n",
       "      <td>8.9</td>\n",
       "    </tr>\n",
       "    <tr>\n",
       "      <th>8</th>\n",
       "      <td>8</td>\n",
       "      <td>A science-fiction masterpiece. Nolan executes ...</td>\n",
       "      <td>10.0</td>\n",
       "      <td>9.7</td>\n",
       "    </tr>\n",
       "    <tr>\n",
       "      <th>9</th>\n",
       "      <td>9</td>\n",
       "      <td>I was extremely lucky to get the chance to see...</td>\n",
       "      <td>NaN</td>\n",
       "      <td>10.0</td>\n",
       "    </tr>\n",
       "    <tr>\n",
       "      <th>10</th>\n",
       "      <td>10</td>\n",
       "      <td>I will keep this short for the sake of not spo...</td>\n",
       "      <td>6.0</td>\n",
       "      <td>9.9</td>\n",
       "    </tr>\n",
       "    <tr>\n",
       "      <th>11</th>\n",
       "      <td>11</td>\n",
       "      <td>All is amazing. I can't describe anything. It'...</td>\n",
       "      <td>10.0</td>\n",
       "      <td>9.7</td>\n",
       "    </tr>\n",
       "    <tr>\n",
       "      <th>12</th>\n",
       "      <td>12</td>\n",
       "      <td>\"Love is the one thing we're capable of percei...</td>\n",
       "      <td>5.0</td>\n",
       "      <td>0.2</td>\n",
       "    </tr>\n",
       "    <tr>\n",
       "      <th>13</th>\n",
       "      <td>13</td>\n",
       "      <td>Interstellar - ReviewCertain things in life ar...</td>\n",
       "      <td>10.0</td>\n",
       "      <td>8.2</td>\n",
       "    </tr>\n",
       "    <tr>\n",
       "      <th>14</th>\n",
       "      <td>14</td>\n",
       "      <td>I hadn't seen this but movie and caught it on ...</td>\n",
       "      <td>10.0</td>\n",
       "      <td>9.7</td>\n",
       "    </tr>\n",
       "    <tr>\n",
       "      <th>15</th>\n",
       "      <td>15</td>\n",
       "      <td>There is not even a single day I don't think o...</td>\n",
       "      <td>10.0</td>\n",
       "      <td>9.7</td>\n",
       "    </tr>\n",
       "    <tr>\n",
       "      <th>16</th>\n",
       "      <td>16</td>\n",
       "      <td>I have been a cinema lover for years, read a l...</td>\n",
       "      <td>10.0</td>\n",
       "      <td>9.2</td>\n",
       "    </tr>\n",
       "    <tr>\n",
       "      <th>17</th>\n",
       "      <td>17</td>\n",
       "      <td>It's difficult to put into words how powerful ...</td>\n",
       "      <td>10.0</td>\n",
       "      <td>9.8</td>\n",
       "    </tr>\n",
       "    <tr>\n",
       "      <th>18</th>\n",
       "      <td>18</td>\n",
       "      <td>I understand Mr. Nolan purposely made the dial...</td>\n",
       "      <td>NaN</td>\n",
       "      <td>0.1</td>\n",
       "    </tr>\n",
       "    <tr>\n",
       "      <th>19</th>\n",
       "      <td>19</td>\n",
       "      <td>Was this movie terrible? No, but for as much p...</td>\n",
       "      <td>7.0</td>\n",
       "      <td>7.8</td>\n",
       "    </tr>\n",
       "    <tr>\n",
       "      <th>20</th>\n",
       "      <td>20</td>\n",
       "      <td>The film begins by establishing at his own rhy...</td>\n",
       "      <td>10.0</td>\n",
       "      <td>7.3</td>\n",
       "    </tr>\n",
       "    <tr>\n",
       "      <th>21</th>\n",
       "      <td>21</td>\n",
       "      <td>Even though I'm a big fan of Christofer Nolan,...</td>\n",
       "      <td>7.0</td>\n",
       "      <td>0.1</td>\n",
       "    </tr>\n",
       "    <tr>\n",
       "      <th>22</th>\n",
       "      <td>22</td>\n",
       "      <td>If you saw \"sunshine\" and thought \"wow, good t...</td>\n",
       "      <td>4.0</td>\n",
       "      <td>0.9</td>\n",
       "    </tr>\n",
       "  </tbody>\n",
       "</table>\n",
       "</div>"
      ],
      "text/plain": [
       "    Unnamed: 0                                        user_review  user_score  \\\n",
       "0            0  Sometimes I just need to see the start. Or end...        10.0   \n",
       "1            1  After watching this insane movie in the theatr...        10.0   \n",
       "2            2  A lot has been said and written about Interste...        10.0   \n",
       "3            3  Interstellar is a movie like no other. Unlike ...        10.0   \n",
       "4            4  Amongst the best movies of all time. The story...        10.0   \n",
       "5            5  This movie was the best written, acted, visual...        10.0   \n",
       "6            6  I think just about everything has been said ab...        10.0   \n",
       "7            7  I judge a movie by how long it takes me to rea...        10.0   \n",
       "8            8  A science-fiction masterpiece. Nolan executes ...        10.0   \n",
       "9            9  I was extremely lucky to get the chance to see...         NaN   \n",
       "10          10  I will keep this short for the sake of not spo...         6.0   \n",
       "11          11  All is amazing. I can't describe anything. It'...        10.0   \n",
       "12          12  \"Love is the one thing we're capable of percei...         5.0   \n",
       "13          13  Interstellar - ReviewCertain things in life ar...        10.0   \n",
       "14          14  I hadn't seen this but movie and caught it on ...        10.0   \n",
       "15          15  There is not even a single day I don't think o...        10.0   \n",
       "16          16  I have been a cinema lover for years, read a l...        10.0   \n",
       "17          17  It's difficult to put into words how powerful ...        10.0   \n",
       "18          18  I understand Mr. Nolan purposely made the dial...         NaN   \n",
       "19          19  Was this movie terrible? No, but for as much p...         7.0   \n",
       "20          20  The film begins by establishing at his own rhy...        10.0   \n",
       "21          21  Even though I'm a big fan of Christofer Nolan,...         7.0   \n",
       "22          22  If you saw \"sunshine\" and thought \"wow, good t...         4.0   \n",
       "\n",
       "    Predicted Sentiments  \n",
       "0                    9.7  \n",
       "1                    9.0  \n",
       "2                    9.3  \n",
       "3                    9.8  \n",
       "4                    9.7  \n",
       "5                    9.7  \n",
       "6                    9.3  \n",
       "7                    8.9  \n",
       "8                    9.7  \n",
       "9                   10.0  \n",
       "10                   9.9  \n",
       "11                   9.7  \n",
       "12                   0.2  \n",
       "13                   8.2  \n",
       "14                   9.7  \n",
       "15                   9.7  \n",
       "16                   9.2  \n",
       "17                   9.8  \n",
       "18                   0.1  \n",
       "19                   7.8  \n",
       "20                   7.3  \n",
       "21                   0.1  \n",
       "22                   0.9  "
      ]
     },
     "execution_count": 70,
     "metadata": {},
     "output_type": "execute_result"
    }
   ],
   "source": [
    "dftest['Predicted Sentiments'] = np.round(unseen_sentiments*10,1)\n",
    "dftest"
   ]
  },
  {
   "cell_type": "code",
   "execution_count": null,
   "id": "19853bae-c1c3-4713-b5b9-c7a617ad267e",
   "metadata": {},
   "outputs": [],
   "source": []
  }
 ],
 "metadata": {
  "kernelspec": {
   "display_name": "asn",
   "language": "python",
   "name": "asn"
  },
  "language_info": {
   "codemirror_mode": {
    "name": "ipython",
    "version": 3
   },
   "file_extension": ".py",
   "mimetype": "text/x-python",
   "name": "python",
   "nbconvert_exporter": "python",
   "pygments_lexer": "ipython3",
   "version": "3.12.6"
  }
 },
 "nbformat": 4,
 "nbformat_minor": 5
}
